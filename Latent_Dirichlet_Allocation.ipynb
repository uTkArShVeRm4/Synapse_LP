{
  "cells": [
    {
      "cell_type": "markdown",
      "metadata": {
        "id": "GZ4yCG1JpWpA"
      },
      "source": [
        "## Latent Dirichlet Allocation ##\n",
        "**Watch these videos:**\n",
        "- https://www.youtube.com/watch?v=azXCzI57Yfc\n",
        "- https://www.youtube.com/watch?v=T05t-SqKArY\n",
        "- https://www.youtube.com/watch?v=BaM1uiCpj_E\n",
        "\n",
        "LDA is used to classify text in a document to a particular topic. It builds a topic per document model and words per topic model, modeled as Dirichlet distributions. \n",
        "\n",
        "* Each document is modeled as a multinomial distribution of topics and each topic is modeled as a multinomial distribution of words.\n",
        "* LDA assumes that the every chunk of text we feed into it will contain words that are somehow related. Therefore choosing the right corpus of data is crucial. \n",
        "* It also assumes documents are produced from a mixture of topics. Those topics then generate words based on their probability distribution. "
      ]
    },
    {
      "cell_type": "markdown",
      "metadata": {
        "id": "hZdLFJPgpWpG"
      },
      "source": [
        "## Step 1: Load the dataset\n",
        "\n",
        "The dataset we'll use is a list of over one million news headlines published over a period of 15 years. We'll start by loading it from the `abcnews-date-text.csv` file."
      ]
    },
    {
      "cell_type": "code",
      "source": [
        "import pandas as pd\n",
        "import numpy as np"
      ],
      "metadata": {
        "id": "E-OWnJ9_xe9q"
      },
      "execution_count": 1,
      "outputs": []
    },
    {
      "cell_type": "code",
      "execution_count": 17,
      "metadata": {
        "id": "f6sSpTHkpWpH",
        "colab": {
          "base_uri": "https://localhost:8080/",
          "height": 424
        },
        "outputId": "05199438-d6a4-4477-f8c6-4aa6f3725cb3"
      },
      "outputs": [
        {
          "output_type": "execute_result",
          "data": {
            "text/plain": [
              "         index                                      headline_text\n",
              "0            0  aba decides against community broadcasting lic...\n",
              "1            1     act fire witnesses must be aware of defamation\n",
              "2            2     a g calls for infrastructure protection summit\n",
              "3            3           air nz staff in aust strike for pay rise\n",
              "4            4      air nz strike to affect australian travellers\n",
              "...        ...                                                ...\n",
              "870611  870611                       pauline jachmann apple cider\n",
              "870612  870612  porter jet order no flight of fancy theyre wor...\n",
              "870613  870613      prince charles brother in law mark shand dies\n",
              "870614  870614         prince william and catherine tour canberra\n",
              "870615  870615                 prince william expresses deep admi\n",
              "\n",
              "[870616 rows x 2 columns]"
            ],
            "text/html": [
              "\n",
              "  <div id=\"df-dc862f03-3700-46bf-b915-aaa9889e30ba\">\n",
              "    <div class=\"colab-df-container\">\n",
              "      <div>\n",
              "<style scoped>\n",
              "    .dataframe tbody tr th:only-of-type {\n",
              "        vertical-align: middle;\n",
              "    }\n",
              "\n",
              "    .dataframe tbody tr th {\n",
              "        vertical-align: top;\n",
              "    }\n",
              "\n",
              "    .dataframe thead th {\n",
              "        text-align: right;\n",
              "    }\n",
              "</style>\n",
              "<table border=\"1\" class=\"dataframe\">\n",
              "  <thead>\n",
              "    <tr style=\"text-align: right;\">\n",
              "      <th></th>\n",
              "      <th>index</th>\n",
              "      <th>headline_text</th>\n",
              "    </tr>\n",
              "  </thead>\n",
              "  <tbody>\n",
              "    <tr>\n",
              "      <th>0</th>\n",
              "      <td>0</td>\n",
              "      <td>aba decides against community broadcasting lic...</td>\n",
              "    </tr>\n",
              "    <tr>\n",
              "      <th>1</th>\n",
              "      <td>1</td>\n",
              "      <td>act fire witnesses must be aware of defamation</td>\n",
              "    </tr>\n",
              "    <tr>\n",
              "      <th>2</th>\n",
              "      <td>2</td>\n",
              "      <td>a g calls for infrastructure protection summit</td>\n",
              "    </tr>\n",
              "    <tr>\n",
              "      <th>3</th>\n",
              "      <td>3</td>\n",
              "      <td>air nz staff in aust strike for pay rise</td>\n",
              "    </tr>\n",
              "    <tr>\n",
              "      <th>4</th>\n",
              "      <td>4</td>\n",
              "      <td>air nz strike to affect australian travellers</td>\n",
              "    </tr>\n",
              "    <tr>\n",
              "      <th>...</th>\n",
              "      <td>...</td>\n",
              "      <td>...</td>\n",
              "    </tr>\n",
              "    <tr>\n",
              "      <th>870611</th>\n",
              "      <td>870611</td>\n",
              "      <td>pauline jachmann apple cider</td>\n",
              "    </tr>\n",
              "    <tr>\n",
              "      <th>870612</th>\n",
              "      <td>870612</td>\n",
              "      <td>porter jet order no flight of fancy theyre wor...</td>\n",
              "    </tr>\n",
              "    <tr>\n",
              "      <th>870613</th>\n",
              "      <td>870613</td>\n",
              "      <td>prince charles brother in law mark shand dies</td>\n",
              "    </tr>\n",
              "    <tr>\n",
              "      <th>870614</th>\n",
              "      <td>870614</td>\n",
              "      <td>prince william and catherine tour canberra</td>\n",
              "    </tr>\n",
              "    <tr>\n",
              "      <th>870615</th>\n",
              "      <td>870615</td>\n",
              "      <td>prince william expresses deep admi</td>\n",
              "    </tr>\n",
              "  </tbody>\n",
              "</table>\n",
              "<p>870616 rows × 2 columns</p>\n",
              "</div>\n",
              "      <button class=\"colab-df-convert\" onclick=\"convertToInteractive('df-dc862f03-3700-46bf-b915-aaa9889e30ba')\"\n",
              "              title=\"Convert this dataframe to an interactive table.\"\n",
              "              style=\"display:none;\">\n",
              "        \n",
              "  <svg xmlns=\"http://www.w3.org/2000/svg\" height=\"24px\"viewBox=\"0 0 24 24\"\n",
              "       width=\"24px\">\n",
              "    <path d=\"M0 0h24v24H0V0z\" fill=\"none\"/>\n",
              "    <path d=\"M18.56 5.44l.94 2.06.94-2.06 2.06-.94-2.06-.94-.94-2.06-.94 2.06-2.06.94zm-11 1L8.5 8.5l.94-2.06 2.06-.94-2.06-.94L8.5 2.5l-.94 2.06-2.06.94zm10 10l.94 2.06.94-2.06 2.06-.94-2.06-.94-.94-2.06-.94 2.06-2.06.94z\"/><path d=\"M17.41 7.96l-1.37-1.37c-.4-.4-.92-.59-1.43-.59-.52 0-1.04.2-1.43.59L10.3 9.45l-7.72 7.72c-.78.78-.78 2.05 0 2.83L4 21.41c.39.39.9.59 1.41.59.51 0 1.02-.2 1.41-.59l7.78-7.78 2.81-2.81c.8-.78.8-2.07 0-2.86zM5.41 20L4 18.59l7.72-7.72 1.47 1.35L5.41 20z\"/>\n",
              "  </svg>\n",
              "      </button>\n",
              "      \n",
              "  <style>\n",
              "    .colab-df-container {\n",
              "      display:flex;\n",
              "      flex-wrap:wrap;\n",
              "      gap: 12px;\n",
              "    }\n",
              "\n",
              "    .colab-df-convert {\n",
              "      background-color: #E8F0FE;\n",
              "      border: none;\n",
              "      border-radius: 50%;\n",
              "      cursor: pointer;\n",
              "      display: none;\n",
              "      fill: #1967D2;\n",
              "      height: 32px;\n",
              "      padding: 0 0 0 0;\n",
              "      width: 32px;\n",
              "    }\n",
              "\n",
              "    .colab-df-convert:hover {\n",
              "      background-color: #E2EBFA;\n",
              "      box-shadow: 0px 1px 2px rgba(60, 64, 67, 0.3), 0px 1px 3px 1px rgba(60, 64, 67, 0.15);\n",
              "      fill: #174EA6;\n",
              "    }\n",
              "\n",
              "    [theme=dark] .colab-df-convert {\n",
              "      background-color: #3B4455;\n",
              "      fill: #D2E3FC;\n",
              "    }\n",
              "\n",
              "    [theme=dark] .colab-df-convert:hover {\n",
              "      background-color: #434B5C;\n",
              "      box-shadow: 0px 1px 3px 1px rgba(0, 0, 0, 0.15);\n",
              "      filter: drop-shadow(0px 1px 2px rgba(0, 0, 0, 0.3));\n",
              "      fill: #FFFFFF;\n",
              "    }\n",
              "  </style>\n",
              "\n",
              "      <script>\n",
              "        const buttonEl =\n",
              "          document.querySelector('#df-dc862f03-3700-46bf-b915-aaa9889e30ba button.colab-df-convert');\n",
              "        buttonEl.style.display =\n",
              "          google.colab.kernel.accessAllowed ? 'block' : 'none';\n",
              "\n",
              "        async function convertToInteractive(key) {\n",
              "          const element = document.querySelector('#df-dc862f03-3700-46bf-b915-aaa9889e30ba');\n",
              "          const dataTable =\n",
              "            await google.colab.kernel.invokeFunction('convertToInteractive',\n",
              "                                                     [key], {});\n",
              "          if (!dataTable) return;\n",
              "\n",
              "          const docLinkHtml = 'Like what you see? Visit the ' +\n",
              "            '<a target=\"_blank\" href=https://colab.research.google.com/notebooks/data_table.ipynb>data table notebook</a>'\n",
              "            + ' to learn more about interactive tables.';\n",
              "          element.innerHTML = '';\n",
              "          dataTable['output_type'] = 'display_data';\n",
              "          await google.colab.output.renderOutput(dataTable, element);\n",
              "          const docLink = document.createElement('div');\n",
              "          docLink.innerHTML = docLinkHtml;\n",
              "          element.appendChild(docLink);\n",
              "        }\n",
              "      </script>\n",
              "    </div>\n",
              "  </div>\n",
              "  "
            ]
          },
          "metadata": {},
          "execution_count": 17
        }
      ],
      "source": [
        "'''\n",
        "Load the dataset from the CSV and save it to 'data_text'. We only need the'headline_text' column,\n",
        "so drop the rest of the columns. Call the final dataframe \"documents\" \n",
        "Then, add an 'index' column to the dataframe. Be sure to name it index.\n",
        "Hint: dataframe.index\n",
        "'''\n",
        "\n",
        "data_text = pd.read_csv('/content/abcnews-date-text.csv')\n",
        "documents = data_text.drop('publish_date',axis=1)\n",
        "documents.reset_index(drop=False,inplace=True)\n",
        "documents"
      ]
    },
    {
      "cell_type": "markdown",
      "metadata": {
        "id": "55JUnVKlpWpJ"
      },
      "source": [
        "Let's glance at the dataset:"
      ]
    },
    {
      "cell_type": "code",
      "execution_count": 18,
      "metadata": {
        "id": "YlYQGgNfpWpJ",
        "colab": {
          "base_uri": "https://localhost:8080/"
        },
        "outputId": "f44050a9-db11-4c16-c3da-68b7c37eee2d"
      },
      "outputs": [
        {
          "output_type": "execute_result",
          "data": {
            "text/plain": [
              "870616"
            ]
          },
          "metadata": {},
          "execution_count": 18
        }
      ],
      "source": [
        "'''\n",
        "print the total number of documents\n",
        "'''\n",
        "len(documents)"
      ]
    },
    {
      "cell_type": "code",
      "execution_count": 19,
      "metadata": {
        "id": "aYN2_M0ipWpJ",
        "colab": {
          "base_uri": "https://localhost:8080/",
          "height": 206
        },
        "outputId": "eedd535c-d760-4791-cf07-e5e1cac65fe2"
      },
      "outputs": [
        {
          "output_type": "execute_result",
          "data": {
            "text/plain": [
              "   index                                      headline_text\n",
              "0      0  aba decides against community broadcasting lic...\n",
              "1      1     act fire witnesses must be aware of defamation\n",
              "2      2     a g calls for infrastructure protection summit\n",
              "3      3           air nz staff in aust strike for pay rise\n",
              "4      4      air nz strike to affect australian travellers"
            ],
            "text/html": [
              "\n",
              "  <div id=\"df-ad6a9ea9-0663-42b9-8050-ca6965acabcb\">\n",
              "    <div class=\"colab-df-container\">\n",
              "      <div>\n",
              "<style scoped>\n",
              "    .dataframe tbody tr th:only-of-type {\n",
              "        vertical-align: middle;\n",
              "    }\n",
              "\n",
              "    .dataframe tbody tr th {\n",
              "        vertical-align: top;\n",
              "    }\n",
              "\n",
              "    .dataframe thead th {\n",
              "        text-align: right;\n",
              "    }\n",
              "</style>\n",
              "<table border=\"1\" class=\"dataframe\">\n",
              "  <thead>\n",
              "    <tr style=\"text-align: right;\">\n",
              "      <th></th>\n",
              "      <th>index</th>\n",
              "      <th>headline_text</th>\n",
              "    </tr>\n",
              "  </thead>\n",
              "  <tbody>\n",
              "    <tr>\n",
              "      <th>0</th>\n",
              "      <td>0</td>\n",
              "      <td>aba decides against community broadcasting lic...</td>\n",
              "    </tr>\n",
              "    <tr>\n",
              "      <th>1</th>\n",
              "      <td>1</td>\n",
              "      <td>act fire witnesses must be aware of defamation</td>\n",
              "    </tr>\n",
              "    <tr>\n",
              "      <th>2</th>\n",
              "      <td>2</td>\n",
              "      <td>a g calls for infrastructure protection summit</td>\n",
              "    </tr>\n",
              "    <tr>\n",
              "      <th>3</th>\n",
              "      <td>3</td>\n",
              "      <td>air nz staff in aust strike for pay rise</td>\n",
              "    </tr>\n",
              "    <tr>\n",
              "      <th>4</th>\n",
              "      <td>4</td>\n",
              "      <td>air nz strike to affect australian travellers</td>\n",
              "    </tr>\n",
              "  </tbody>\n",
              "</table>\n",
              "</div>\n",
              "      <button class=\"colab-df-convert\" onclick=\"convertToInteractive('df-ad6a9ea9-0663-42b9-8050-ca6965acabcb')\"\n",
              "              title=\"Convert this dataframe to an interactive table.\"\n",
              "              style=\"display:none;\">\n",
              "        \n",
              "  <svg xmlns=\"http://www.w3.org/2000/svg\" height=\"24px\"viewBox=\"0 0 24 24\"\n",
              "       width=\"24px\">\n",
              "    <path d=\"M0 0h24v24H0V0z\" fill=\"none\"/>\n",
              "    <path d=\"M18.56 5.44l.94 2.06.94-2.06 2.06-.94-2.06-.94-.94-2.06-.94 2.06-2.06.94zm-11 1L8.5 8.5l.94-2.06 2.06-.94-2.06-.94L8.5 2.5l-.94 2.06-2.06.94zm10 10l.94 2.06.94-2.06 2.06-.94-2.06-.94-.94-2.06-.94 2.06-2.06.94z\"/><path d=\"M17.41 7.96l-1.37-1.37c-.4-.4-.92-.59-1.43-.59-.52 0-1.04.2-1.43.59L10.3 9.45l-7.72 7.72c-.78.78-.78 2.05 0 2.83L4 21.41c.39.39.9.59 1.41.59.51 0 1.02-.2 1.41-.59l7.78-7.78 2.81-2.81c.8-.78.8-2.07 0-2.86zM5.41 20L4 18.59l7.72-7.72 1.47 1.35L5.41 20z\"/>\n",
              "  </svg>\n",
              "      </button>\n",
              "      \n",
              "  <style>\n",
              "    .colab-df-container {\n",
              "      display:flex;\n",
              "      flex-wrap:wrap;\n",
              "      gap: 12px;\n",
              "    }\n",
              "\n",
              "    .colab-df-convert {\n",
              "      background-color: #E8F0FE;\n",
              "      border: none;\n",
              "      border-radius: 50%;\n",
              "      cursor: pointer;\n",
              "      display: none;\n",
              "      fill: #1967D2;\n",
              "      height: 32px;\n",
              "      padding: 0 0 0 0;\n",
              "      width: 32px;\n",
              "    }\n",
              "\n",
              "    .colab-df-convert:hover {\n",
              "      background-color: #E2EBFA;\n",
              "      box-shadow: 0px 1px 2px rgba(60, 64, 67, 0.3), 0px 1px 3px 1px rgba(60, 64, 67, 0.15);\n",
              "      fill: #174EA6;\n",
              "    }\n",
              "\n",
              "    [theme=dark] .colab-df-convert {\n",
              "      background-color: #3B4455;\n",
              "      fill: #D2E3FC;\n",
              "    }\n",
              "\n",
              "    [theme=dark] .colab-df-convert:hover {\n",
              "      background-color: #434B5C;\n",
              "      box-shadow: 0px 1px 3px 1px rgba(0, 0, 0, 0.15);\n",
              "      filter: drop-shadow(0px 1px 2px rgba(0, 0, 0, 0.3));\n",
              "      fill: #FFFFFF;\n",
              "    }\n",
              "  </style>\n",
              "\n",
              "      <script>\n",
              "        const buttonEl =\n",
              "          document.querySelector('#df-ad6a9ea9-0663-42b9-8050-ca6965acabcb button.colab-df-convert');\n",
              "        buttonEl.style.display =\n",
              "          google.colab.kernel.accessAllowed ? 'block' : 'none';\n",
              "\n",
              "        async function convertToInteractive(key) {\n",
              "          const element = document.querySelector('#df-ad6a9ea9-0663-42b9-8050-ca6965acabcb');\n",
              "          const dataTable =\n",
              "            await google.colab.kernel.invokeFunction('convertToInteractive',\n",
              "                                                     [key], {});\n",
              "          if (!dataTable) return;\n",
              "\n",
              "          const docLinkHtml = 'Like what you see? Visit the ' +\n",
              "            '<a target=\"_blank\" href=https://colab.research.google.com/notebooks/data_table.ipynb>data table notebook</a>'\n",
              "            + ' to learn more about interactive tables.';\n",
              "          element.innerHTML = '';\n",
              "          dataTable['output_type'] = 'display_data';\n",
              "          await google.colab.output.renderOutput(dataTable, element);\n",
              "          const docLink = document.createElement('div');\n",
              "          docLink.innerHTML = docLinkHtml;\n",
              "          element.appendChild(docLink);\n",
              "        }\n",
              "      </script>\n",
              "    </div>\n",
              "  </div>\n",
              "  "
            ]
          },
          "metadata": {},
          "execution_count": 19
        }
      ],
      "source": [
        "documents[:5]"
      ]
    },
    {
      "cell_type": "markdown",
      "metadata": {
        "id": "KBnvkZ3tpWpK"
      },
      "source": [
        "## Step 2: Data Preprocessing ##\n",
        "\n",
        "We will perform the following steps:\n",
        "\n",
        "* **Tokenization**: Split the text into sentences and the sentences into words. Lowercase the words and remove punctuation.\n",
        "* Words that have fewer than 3 characters are removed.\n",
        "* All **stopwords** are removed.\n",
        "* Words are **lemmatized** - words in third person are changed to first person and verbs in past and future tenses are changed into present.\n",
        "* Words are **stemmed** - words are reduced to their root form.\n",
        "\n",
        "This time, we'll make use of the gensim library and show you how  to preprocess text easily. "
      ]
    },
    {
      "cell_type": "code",
      "execution_count": 20,
      "metadata": {
        "id": "bkFRERugpWpK"
      },
      "outputs": [],
      "source": [
        "'''\n",
        "Loading Gensim and nltk libraries\n",
        "'''\n",
        "# pip install gensim\n",
        "import gensim\n",
        "from gensim.utils import simple_preprocess\n",
        "from gensim.parsing.preprocessing import STOPWORDS\n",
        "from nltk.stem import WordNetLemmatizer, SnowballStemmer\n",
        "from nltk.stem.porter import *\n",
        "import numpy as np\n",
        "np.random.seed(400)"
      ]
    },
    {
      "cell_type": "code",
      "execution_count": 23,
      "metadata": {
        "id": "fY0LYP74pWpL",
        "colab": {
          "base_uri": "https://localhost:8080/"
        },
        "outputId": "ffd12450-6ef1-435c-a919-10cf65a8d5f6"
      },
      "outputs": [
        {
          "output_type": "stream",
          "name": "stderr",
          "text": [
            "[nltk_data] Downloading package wordnet to /root/nltk_data...\n",
            "[nltk_data]   Package wordnet is already up-to-date!\n",
            "[nltk_data] Downloading package omw-1.4 to /root/nltk_data...\n"
          ]
        },
        {
          "output_type": "execute_result",
          "data": {
            "text/plain": [
              "True"
            ]
          },
          "metadata": {},
          "execution_count": 23
        }
      ],
      "source": [
        "import nltk\n",
        "nltk.download('wordnet')\n",
        "nltk.download('omw-1.4')"
      ]
    },
    {
      "cell_type": "markdown",
      "metadata": {
        "id": "vnmFz7MSpWpL"
      },
      "source": [
        "### Lemmatizer Example\n",
        "Before preprocessing our dataset, let's first look at an lemmatizing example. What would be the output if we lemmatized the word 'went':"
      ]
    },
    {
      "cell_type": "code",
      "execution_count": 24,
      "metadata": {
        "id": "d-qrWU8epWpM",
        "colab": {
          "base_uri": "https://localhost:8080/"
        },
        "outputId": "b7a6d8f3-1e5b-49db-98ee-1c8d4a1f9e8c"
      },
      "outputs": [
        {
          "output_type": "stream",
          "name": "stdout",
          "text": [
            "go\n"
          ]
        }
      ],
      "source": [
        "print(WordNetLemmatizer().lemmatize('went', pos = 'v')) # past tense to present tense"
      ]
    },
    {
      "cell_type": "markdown",
      "metadata": {
        "id": "L5WmKNdBpWpM"
      },
      "source": [
        "### Stemmer Example\n",
        "Let's also look at a stemming example. Let's throw a number of words at the stemmer and see how it deals with each one:"
      ]
    },
    {
      "cell_type": "code",
      "execution_count": 25,
      "metadata": {
        "id": "ihDytHXDpWpM",
        "colab": {
          "base_uri": "https://localhost:8080/",
          "height": 645
        },
        "outputId": "bc2834b8-2ab0-45de-e58e-0c29bc77e406"
      },
      "outputs": [
        {
          "output_type": "execute_result",
          "data": {
            "text/plain": [
              "   original word stemmed\n",
              "0       caresses  caress\n",
              "1          flies     fli\n",
              "2           dies     die\n",
              "3          mules    mule\n",
              "4         denied    deni\n",
              "5           died     die\n",
              "6         agreed    agre\n",
              "7          owned     own\n",
              "8        humbled   humbl\n",
              "9          sized    size\n",
              "10       meeting    meet\n",
              "11       stating   state\n",
              "12       siezing    siez\n",
              "13   itemization    item\n",
              "14   sensational  sensat\n",
              "15   traditional  tradit\n",
              "16     reference   refer\n",
              "17     colonizer   colon\n",
              "18       plotted    plot"
            ],
            "text/html": [
              "\n",
              "  <div id=\"df-c712858b-88c0-4126-8dc1-407b52845ac7\">\n",
              "    <div class=\"colab-df-container\">\n",
              "      <div>\n",
              "<style scoped>\n",
              "    .dataframe tbody tr th:only-of-type {\n",
              "        vertical-align: middle;\n",
              "    }\n",
              "\n",
              "    .dataframe tbody tr th {\n",
              "        vertical-align: top;\n",
              "    }\n",
              "\n",
              "    .dataframe thead th {\n",
              "        text-align: right;\n",
              "    }\n",
              "</style>\n",
              "<table border=\"1\" class=\"dataframe\">\n",
              "  <thead>\n",
              "    <tr style=\"text-align: right;\">\n",
              "      <th></th>\n",
              "      <th>original word</th>\n",
              "      <th>stemmed</th>\n",
              "    </tr>\n",
              "  </thead>\n",
              "  <tbody>\n",
              "    <tr>\n",
              "      <th>0</th>\n",
              "      <td>caresses</td>\n",
              "      <td>caress</td>\n",
              "    </tr>\n",
              "    <tr>\n",
              "      <th>1</th>\n",
              "      <td>flies</td>\n",
              "      <td>fli</td>\n",
              "    </tr>\n",
              "    <tr>\n",
              "      <th>2</th>\n",
              "      <td>dies</td>\n",
              "      <td>die</td>\n",
              "    </tr>\n",
              "    <tr>\n",
              "      <th>3</th>\n",
              "      <td>mules</td>\n",
              "      <td>mule</td>\n",
              "    </tr>\n",
              "    <tr>\n",
              "      <th>4</th>\n",
              "      <td>denied</td>\n",
              "      <td>deni</td>\n",
              "    </tr>\n",
              "    <tr>\n",
              "      <th>5</th>\n",
              "      <td>died</td>\n",
              "      <td>die</td>\n",
              "    </tr>\n",
              "    <tr>\n",
              "      <th>6</th>\n",
              "      <td>agreed</td>\n",
              "      <td>agre</td>\n",
              "    </tr>\n",
              "    <tr>\n",
              "      <th>7</th>\n",
              "      <td>owned</td>\n",
              "      <td>own</td>\n",
              "    </tr>\n",
              "    <tr>\n",
              "      <th>8</th>\n",
              "      <td>humbled</td>\n",
              "      <td>humbl</td>\n",
              "    </tr>\n",
              "    <tr>\n",
              "      <th>9</th>\n",
              "      <td>sized</td>\n",
              "      <td>size</td>\n",
              "    </tr>\n",
              "    <tr>\n",
              "      <th>10</th>\n",
              "      <td>meeting</td>\n",
              "      <td>meet</td>\n",
              "    </tr>\n",
              "    <tr>\n",
              "      <th>11</th>\n",
              "      <td>stating</td>\n",
              "      <td>state</td>\n",
              "    </tr>\n",
              "    <tr>\n",
              "      <th>12</th>\n",
              "      <td>siezing</td>\n",
              "      <td>siez</td>\n",
              "    </tr>\n",
              "    <tr>\n",
              "      <th>13</th>\n",
              "      <td>itemization</td>\n",
              "      <td>item</td>\n",
              "    </tr>\n",
              "    <tr>\n",
              "      <th>14</th>\n",
              "      <td>sensational</td>\n",
              "      <td>sensat</td>\n",
              "    </tr>\n",
              "    <tr>\n",
              "      <th>15</th>\n",
              "      <td>traditional</td>\n",
              "      <td>tradit</td>\n",
              "    </tr>\n",
              "    <tr>\n",
              "      <th>16</th>\n",
              "      <td>reference</td>\n",
              "      <td>refer</td>\n",
              "    </tr>\n",
              "    <tr>\n",
              "      <th>17</th>\n",
              "      <td>colonizer</td>\n",
              "      <td>colon</td>\n",
              "    </tr>\n",
              "    <tr>\n",
              "      <th>18</th>\n",
              "      <td>plotted</td>\n",
              "      <td>plot</td>\n",
              "    </tr>\n",
              "  </tbody>\n",
              "</table>\n",
              "</div>\n",
              "      <button class=\"colab-df-convert\" onclick=\"convertToInteractive('df-c712858b-88c0-4126-8dc1-407b52845ac7')\"\n",
              "              title=\"Convert this dataframe to an interactive table.\"\n",
              "              style=\"display:none;\">\n",
              "        \n",
              "  <svg xmlns=\"http://www.w3.org/2000/svg\" height=\"24px\"viewBox=\"0 0 24 24\"\n",
              "       width=\"24px\">\n",
              "    <path d=\"M0 0h24v24H0V0z\" fill=\"none\"/>\n",
              "    <path d=\"M18.56 5.44l.94 2.06.94-2.06 2.06-.94-2.06-.94-.94-2.06-.94 2.06-2.06.94zm-11 1L8.5 8.5l.94-2.06 2.06-.94-2.06-.94L8.5 2.5l-.94 2.06-2.06.94zm10 10l.94 2.06.94-2.06 2.06-.94-2.06-.94-.94-2.06-.94 2.06-2.06.94z\"/><path d=\"M17.41 7.96l-1.37-1.37c-.4-.4-.92-.59-1.43-.59-.52 0-1.04.2-1.43.59L10.3 9.45l-7.72 7.72c-.78.78-.78 2.05 0 2.83L4 21.41c.39.39.9.59 1.41.59.51 0 1.02-.2 1.41-.59l7.78-7.78 2.81-2.81c.8-.78.8-2.07 0-2.86zM5.41 20L4 18.59l7.72-7.72 1.47 1.35L5.41 20z\"/>\n",
              "  </svg>\n",
              "      </button>\n",
              "      \n",
              "  <style>\n",
              "    .colab-df-container {\n",
              "      display:flex;\n",
              "      flex-wrap:wrap;\n",
              "      gap: 12px;\n",
              "    }\n",
              "\n",
              "    .colab-df-convert {\n",
              "      background-color: #E8F0FE;\n",
              "      border: none;\n",
              "      border-radius: 50%;\n",
              "      cursor: pointer;\n",
              "      display: none;\n",
              "      fill: #1967D2;\n",
              "      height: 32px;\n",
              "      padding: 0 0 0 0;\n",
              "      width: 32px;\n",
              "    }\n",
              "\n",
              "    .colab-df-convert:hover {\n",
              "      background-color: #E2EBFA;\n",
              "      box-shadow: 0px 1px 2px rgba(60, 64, 67, 0.3), 0px 1px 3px 1px rgba(60, 64, 67, 0.15);\n",
              "      fill: #174EA6;\n",
              "    }\n",
              "\n",
              "    [theme=dark] .colab-df-convert {\n",
              "      background-color: #3B4455;\n",
              "      fill: #D2E3FC;\n",
              "    }\n",
              "\n",
              "    [theme=dark] .colab-df-convert:hover {\n",
              "      background-color: #434B5C;\n",
              "      box-shadow: 0px 1px 3px 1px rgba(0, 0, 0, 0.15);\n",
              "      filter: drop-shadow(0px 1px 2px rgba(0, 0, 0, 0.3));\n",
              "      fill: #FFFFFF;\n",
              "    }\n",
              "  </style>\n",
              "\n",
              "      <script>\n",
              "        const buttonEl =\n",
              "          document.querySelector('#df-c712858b-88c0-4126-8dc1-407b52845ac7 button.colab-df-convert');\n",
              "        buttonEl.style.display =\n",
              "          google.colab.kernel.accessAllowed ? 'block' : 'none';\n",
              "\n",
              "        async function convertToInteractive(key) {\n",
              "          const element = document.querySelector('#df-c712858b-88c0-4126-8dc1-407b52845ac7');\n",
              "          const dataTable =\n",
              "            await google.colab.kernel.invokeFunction('convertToInteractive',\n",
              "                                                     [key], {});\n",
              "          if (!dataTable) return;\n",
              "\n",
              "          const docLinkHtml = 'Like what you see? Visit the ' +\n",
              "            '<a target=\"_blank\" href=https://colab.research.google.com/notebooks/data_table.ipynb>data table notebook</a>'\n",
              "            + ' to learn more about interactive tables.';\n",
              "          element.innerHTML = '';\n",
              "          dataTable['output_type'] = 'display_data';\n",
              "          await google.colab.output.renderOutput(dataTable, element);\n",
              "          const docLink = document.createElement('div');\n",
              "          docLink.innerHTML = docLinkHtml;\n",
              "          element.appendChild(docLink);\n",
              "        }\n",
              "      </script>\n",
              "    </div>\n",
              "  </div>\n",
              "  "
            ]
          },
          "metadata": {},
          "execution_count": 25
        }
      ],
      "source": [
        "stemmer = SnowballStemmer(\"english\")\n",
        "original_words = ['caresses', 'flies', 'dies', 'mules', 'denied','died', 'agreed', 'owned', \n",
        "           'humbled', 'sized','meeting', 'stating', 'siezing', 'itemization','sensational', \n",
        "           'traditional', 'reference', 'colonizer','plotted']\n",
        "singles = [stemmer.stem(plural) for plural in original_words]\n",
        "\n",
        "pd.DataFrame(data={'original word':original_words, 'stemmed':singles })"
      ]
    },
    {
      "cell_type": "code",
      "execution_count": 26,
      "metadata": {
        "id": "1hGo0rQapWpN"
      },
      "outputs": [],
      "source": [
        "'''\n",
        "Write a function to perform the pre processing steps on the entire dataset\n",
        "'''\n",
        "def lemmatize_stemming(text):\n",
        "    '''\n",
        "        1) Lemmatize the text\n",
        "        2) Then, stem the text\n",
        "        3) return final text\n",
        "    '''\n",
        "    lemmatizer = WordNetLemmatizer()\n",
        "    stemmer = SnowballStemmer(\"english\")\n",
        "    \n",
        "    lemmatized_text = lemmatizer.lemmatize(text, pos='v')\n",
        "    stemmed_text = stemmer.stem(lemmatized_text)\n",
        "    \n",
        "    return stemmed_text\n",
        "\n",
        "\n",
        "\n",
        "# Tokenize and lemmatize. Look up how preprocessing is being done\n",
        "def preprocess(text):\n",
        "    result=[]\n",
        "    for token in gensim.utils.simple_preprocess(text):\n",
        "        if token not in gensim.parsing.preprocessing.STOPWORDS and len(token) > 3:\n",
        "            preprocessed_token = lemmatize_stemming(token)\n",
        "            result.append(preprocessed_token)\n",
        "    return result\n",
        "        "
      ]
    },
    {
      "cell_type": "code",
      "source": [
        "doc_sample = documents[documents['index'] == 2].values[0][1]\n",
        "doc_sample"
      ],
      "metadata": {
        "colab": {
          "base_uri": "https://localhost:8080/",
          "height": 36
        },
        "id": "JyFYXTfd0j27",
        "outputId": "9f5a4e6e-0ff9-4a55-f4e5-1f5b8bdfe3f7"
      },
      "execution_count": 30,
      "outputs": [
        {
          "output_type": "execute_result",
          "data": {
            "text/plain": [
              "'a g calls for infrastructure protection summit'"
            ],
            "application/vnd.google.colaboratory.intrinsic+json": {
              "type": "string"
            }
          },
          "metadata": {},
          "execution_count": 30
        }
      ]
    },
    {
      "cell_type": "code",
      "execution_count": 31,
      "metadata": {
        "id": "iRylcKhTpWpN",
        "colab": {
          "base_uri": "https://localhost:8080/"
        },
        "outputId": "b87e0810-9798-4487-b278-08e518d0ad68"
      },
      "outputs": [
        {
          "output_type": "stream",
          "name": "stdout",
          "text": [
            "Original document: \n",
            "['rain', 'helps', 'dampen', 'bushfires']\n",
            "\n",
            "\n",
            "Tokenized and lemmatized document: \n",
            "['rain', 'help', 'dampen', 'bushfir']\n"
          ]
        }
      ],
      "source": [
        "'''\n",
        "Preview a document after preprocessing\n",
        "'''\n",
        "document_num = 4310\n",
        "doc_sample = documents[documents['index'] == document_num].values[0][1]\n",
        "\n",
        "print(\"Original document: \")\n",
        "words = []\n",
        "for word in doc_sample.split(' '):\n",
        "    words.append(word)\n",
        "print(words)\n",
        "print(\"\\n\\nTokenized and lemmatized document: \")\n",
        "print(preprocess(doc_sample))"
      ]
    },
    {
      "cell_type": "markdown",
      "metadata": {
        "id": "yFkSYvtrpWpO"
      },
      "source": [
        "Let's now preprocess all the news headlines we have. To do that, let's use the [map](https://pandas.pydata.org/pandas-docs/stable/generated/pandas.Series.map.html) function from pandas to apply `preprocess()` to the `headline_text` column\n",
        "\n",
        "**Note**: This may take a few minutes"
      ]
    },
    {
      "cell_type": "code",
      "execution_count": 33,
      "metadata": {
        "id": "6Sf1qqI5pWpO"
      },
      "outputs": [],
      "source": [
        "# TODO: preprocess all the headlines, saving the list of results as 'processed_docs'\n",
        "processed_docs = documents['headline_text'].map(preprocess)"
      ]
    },
    {
      "cell_type": "code",
      "execution_count": 34,
      "metadata": {
        "id": "HTw9F2flpWpO",
        "colab": {
          "base_uri": "https://localhost:8080/"
        },
        "outputId": "775e5e91-ee37-416f-b4be-784ea44d83b0"
      },
      "outputs": [
        {
          "output_type": "execute_result",
          "data": {
            "text/plain": [
              "0            [decid, communiti, broadcast, licenc]\n",
              "1                               [wit, awar, defam]\n",
              "2           [call, infrastructur, protect, summit]\n",
              "3                      [staff, aust, strike, rise]\n",
              "4             [strike, affect, australian, travel]\n",
              "5               [ambiti, olsson, win, tripl, jump]\n",
              "6           [antic, delight, record, break, barca]\n",
              "7    [aussi, qualifi, stosur, wast, memphi, match]\n",
              "8            [aust, address, secur, council, iraq]\n",
              "9                         [australia, lock, timet]\n",
              "Name: headline_text, dtype: object"
            ]
          },
          "metadata": {},
          "execution_count": 34
        }
      ],
      "source": [
        "'''\n",
        "Preview 'processed_docs'\n",
        "'''\n",
        "processed_docs[:10]"
      ]
    },
    {
      "cell_type": "markdown",
      "metadata": {
        "id": "kwd921QSpWpO"
      },
      "source": [
        "## Step 3.1: Bag of words on the dataset\n",
        "\n",
        "Now let's create a dictionary from 'processed_docs' containing the number of times a word appears in the training set. To do that, let's pass `processed_docs` to [`gensim.corpora.Dictionary()`](https://radimrehurek.com/gensim/corpora/dictionary.html) and call it '`dictionary`'."
      ]
    },
    {
      "cell_type": "code",
      "execution_count": 46,
      "metadata": {
        "id": "kT7XTJG-pWpP"
      },
      "outputs": [],
      "source": [
        "'''\n",
        "Create a dictionary from 'processed_docs' containing the number of times a word appears \n",
        "in the training set using gensim.corpora.Dictionary and call it 'dictionary'\n",
        "'''\n",
        "dictionary = gensim.corpora.Dictionary(processed_docs)\n"
      ]
    },
    {
      "cell_type": "code",
      "execution_count": 38,
      "metadata": {
        "id": "xHZ-HfnjpWpP",
        "colab": {
          "base_uri": "https://localhost:8080/"
        },
        "outputId": "11e18df5-2ba4-4070-d0d7-f95783a204ee"
      },
      "outputs": [
        {
          "output_type": "stream",
          "name": "stdout",
          "text": [
            "0 broadcast\n",
            "1 communiti\n",
            "2 decid\n",
            "3 licenc\n",
            "4 awar\n",
            "5 defam\n",
            "6 wit\n",
            "7 call\n",
            "8 infrastructur\n",
            "9 protect\n",
            "10 summit\n"
          ]
        }
      ],
      "source": [
        "'''\n",
        "Checking dictionary created\n",
        "'''\n",
        "count = 0\n",
        "for k, v in dictionary.iteritems():\n",
        "    print(k, v)\n",
        "    count += 1\n",
        "    if count > 10:\n",
        "        break"
      ]
    },
    {
      "cell_type": "markdown",
      "metadata": {
        "id": "Fp2tCyl9pWpP"
      },
      "source": [
        "** Gensim filter_extremes **\n",
        "\n",
        "[`filter_extremes(no_below=5, no_above=0.5, keep_n=100000)`](https://radimrehurek.com/gensim/corpora/dictionary.html#gensim.corpora.dictionary.Dictionary.filter_extremes)\n",
        "\n",
        "Filter out tokens that appear in\n",
        "\n",
        "* less than no_below documents (absolute number) or\n",
        "* more than no_above documents (fraction of total corpus size, not absolute number).\n",
        "* after (1) and (2), keep only the first keep_n most frequent tokens (or keep all if None)."
      ]
    },
    {
      "cell_type": "code",
      "execution_count": 47,
      "metadata": {
        "id": "kKUURducpWpP"
      },
      "outputs": [],
      "source": [
        "'''\n",
        "Remove very rare and very common words:\n",
        "\n",
        "- words appearing less than 15 times\n",
        "- words appearing in more than 10% of all documents\n",
        "- keep 100000 most frequent tokens\n",
        "'''\n",
        "dictionary.filter_extremes(no_below=15, no_above=0.1, keep_n=100000)\n",
        "\n"
      ]
    },
    {
      "cell_type": "code",
      "source": [
        "len(dictionary)"
      ],
      "metadata": {
        "colab": {
          "base_uri": "https://localhost:8080/"
        },
        "id": "zeUS5TdwAH-r",
        "outputId": "ed9cc732-650b-4bc3-e883-343cfa8857c9"
      },
      "execution_count": 48,
      "outputs": [
        {
          "output_type": "execute_result",
          "data": {
            "text/plain": [
              "11988"
            ]
          },
          "metadata": {},
          "execution_count": 48
        }
      ]
    },
    {
      "cell_type": "markdown",
      "metadata": {
        "id": "9PWhJRUMpWpQ"
      },
      "source": [
        "** Gensim doc2bow **\n",
        "\n",
        "[`doc2bow(document)`](https://radimrehurek.com/gensim/corpora/dictionary.html#gensim.corpora.dictionary.Dictionary.doc2bow)\n",
        "\n",
        "* Convert document (a list of words) into the bag-of-words format = list of (token_id, token_count) 2-tuples. Each word is assumed to be a tokenized and normalized string (either unicode or utf8-encoded). No further preprocessing is done on the words in document; apply tokenization, stemming etc. before calling this method."
      ]
    },
    {
      "cell_type": "code",
      "execution_count": 49,
      "metadata": {
        "id": "d_cNaS8apWpQ"
      },
      "outputs": [],
      "source": [
        "'''\n",
        "Create the Bag-of-words model for each document i.e for each document we create a dictionary reporting how many\n",
        "words and how many times those words appear. Save this to 'bow_corpus'.\n",
        "Hint: Since we want a BoW model for each document, you can use list comprehension instead of for loops. List\n",
        "comprehension is the more pythonic way.\n",
        "'''\n",
        "bow_corpus = [dictionary.doc2bow(doc) for doc in processed_docs]\n"
      ]
    },
    {
      "cell_type": "code",
      "execution_count": 50,
      "metadata": {
        "id": "rH8KLnXzpWpQ",
        "colab": {
          "base_uri": "https://localhost:8080/"
        },
        "outputId": "1360f025-e9fe-40a9-b809-61f600a47a28"
      },
      "outputs": [
        {
          "output_type": "execute_result",
          "data": {
            "text/plain": [
              "[(75, 1), (111, 1), (481, 1), (3948, 1)]"
            ]
          },
          "metadata": {},
          "execution_count": 50
        }
      ],
      "source": [
        "'''\n",
        "Checking Bag of Words corpus for our sample document --> (token_id, token_count)\n",
        "'''\n",
        "bow_corpus[document_num]"
      ]
    },
    {
      "cell_type": "code",
      "execution_count": 51,
      "metadata": {
        "id": "kYZ_DWD1pWpR",
        "colab": {
          "base_uri": "https://localhost:8080/"
        },
        "outputId": "740a1445-20df-48dd-e8dc-2b2e51d58177"
      },
      "outputs": [
        {
          "output_type": "stream",
          "name": "stdout",
          "text": [
            "Word 75 (\"bushfir\") appears 1 time.\n",
            "Word 111 (\"help\") appears 1 time.\n",
            "Word 481 (\"rain\") appears 1 time.\n",
            "Word 3948 (\"dampen\") appears 1 time.\n"
          ]
        }
      ],
      "source": [
        "'''\n",
        "Preview BOW for our sample preprocessed document\n",
        "'''\n",
        "# Here document_num is document number 4310 which we have checked in Step 2\n",
        "bow_doc_4310 = bow_corpus[document_num]\n",
        "\n",
        "for i in range(len(bow_doc_4310)):\n",
        "    print(\"Word {} (\\\"{}\\\") appears {} time.\".format(bow_doc_4310[i][0], \n",
        "                                                     dictionary[bow_doc_4310[i][0]], \n",
        "                                                     bow_doc_4310[i][1]))"
      ]
    },
    {
      "cell_type": "markdown",
      "metadata": {
        "id": "GeiVw3E7pWpR"
      },
      "source": [
        "## Step 3.2: TF-IDF on our document set ##\n",
        "\n",
        "While performing TF-IDF on the corpus is not necessary for LDA implemention using the gensim model, it is recemmended. TF-IDF expects a bag-of-words (integer values) training corpus during initialization. During transformation, it will take a vector and return another vector of the same dimensionality.\n",
        "\n",
        "*Please note: The author of Gensim dictates the standard procedure for LDA to be using the Bag of Words model.*"
      ]
    },
    {
      "cell_type": "markdown",
      "metadata": {
        "id": "5xy2fd-zpWpR"
      },
      "source": [
        "** TF-IDF stands for \"Term Frequency, Inverse Document Frequency\".**\n",
        "\n",
        "* It is a way to score the importance of words (or \"terms\") in a document based on how frequently they appear across multiple documents.\n",
        "* If a word appears frequently in a document, it's important. Give the word a high score. But if a word appears in many documents, it's not a unique identifier. Give the word a low score.\n",
        "* Therefore, common words like \"the\" and \"for\", which appear in many documents, will be scaled down. Words that appear frequently in a single document will be scaled up.\n",
        "\n",
        "In other words:\n",
        "\n",
        "* TF(w) = `(Number of times term w appears in a document) / (Total number of terms in the document)`.\n",
        "* IDF(w) = `log_e(Total number of documents / Number of documents with term w in it)`.\n",
        "\n",
        "** For example **\n",
        "\n",
        "* Consider a document containing `100` words wherein the word 'tiger' appears 3 times. \n",
        "* The term frequency (i.e., tf) for 'tiger' is then: \n",
        "    - `TF = (3 / 100) = 0.03`. \n",
        "\n",
        "* Now, assume we have `10 million` documents and the word 'tiger' appears in `1000` of these. Then, the inverse document frequency (i.e., idf) is calculated as:\n",
        "    - `IDF = log(10,000,000 / 1,000) = 4`. \n",
        "\n",
        "* Thus, the Tf-idf weight is the product of these quantities: \n",
        "    - `TF-IDF = 0.03 * 4 = 0.12`."
      ]
    },
    {
      "cell_type": "code",
      "execution_count": 52,
      "metadata": {
        "id": "e0GzZRUXpWpR"
      },
      "outputs": [],
      "source": [
        "'''\n",
        "Create tf-idf model object using models.TfidfModel on 'bow_corpus' and save it to 'tfidf'\n",
        "'''\n",
        "from gensim import corpora, models\n",
        "\n",
        "tfidf = models.TfidfModel(bow_corpus)"
      ]
    },
    {
      "cell_type": "code",
      "execution_count": 53,
      "metadata": {
        "id": "n8zmUg9ypWpR"
      },
      "outputs": [],
      "source": [
        "'''\n",
        "Apply transformation to the entire corpus and call it 'corpus_tfidf'\n",
        "'''\n",
        "corpus_tfidf = tfidf[bow_corpus]\n",
        "\n"
      ]
    },
    {
      "cell_type": "code",
      "execution_count": 54,
      "metadata": {
        "id": "vufyn6POpWpS",
        "colab": {
          "base_uri": "https://localhost:8080/"
        },
        "outputId": "2c0d0a42-a707-4253-f853-832261e22acb"
      },
      "outputs": [
        {
          "output_type": "stream",
          "name": "stdout",
          "text": [
            "[(0, 0.5922233916923642),\n",
            " (1, 0.39421163662097713),\n",
            " (2, 0.4921004858653737),\n",
            " (3, 0.5017028519911626)]\n"
          ]
        }
      ],
      "source": [
        "'''\n",
        "Preview TF-IDF scores for our first document --> --> (token_id, tfidf score)\n",
        "'''\n",
        "from pprint import pprint\n",
        "for doc in corpus_tfidf:\n",
        "    pprint(doc)\n",
        "    break"
      ]
    },
    {
      "cell_type": "markdown",
      "metadata": {
        "id": "8FjEKw65pWpS"
      },
      "source": [
        "## Step 4.1: Running LDA using Bag of Words ##\n",
        "\n",
        "We are going for 10 topics in the document corpus.\n",
        "\n",
        "** We will be running LDA using all CPU cores to parallelize and speed up model training.**\n",
        "\n",
        "Some of the parameters we will be tweaking are:\n",
        "\n",
        "* **num_topics** is the number of requested latent topics to be extracted from the training corpus.\n",
        "* **id2word** is a mapping from word ids (integers) to words (strings). It is used to determine the vocabulary size, as well as for debugging and topic printing.\n",
        "* **workers** is the number of extra processes to use for parallelization. Uses all available cores by default.\n",
        "* **alpha** and **eta** are hyperparameters that affect sparsity of the document-topic (theta) and topic-word (lambda) distributions. We will let these be the default values for now(default value is `1/num_topics`)\n",
        "    - Alpha is the per document topic distribution.\n",
        "        * High alpha: Every document has a mixture of all topics(documents appear similar to each other).\n",
        "        * Low alpha: Every document has a mixture of very few topics\n",
        "\n",
        "    - Eta is the per topic word distribution.\n",
        "        * High eta: Each topic has a mixture of most words(topics appear similar to each other).\n",
        "        * Low eta: Each topic has a mixture of few words.\n",
        "\n",
        "* ** passes ** is the number of training passes through the corpus. For  example, if the training corpus has 50,000 documents, chunksize is  10,000, passes is 2, then online training is done in 10 updates: \n",
        "    * `#1 documents 0-9,999 `\n",
        "    * `#2 documents 10,000-19,999 `\n",
        "    * `#3 documents 20,000-29,999 `\n",
        "    * `#4 documents 30,000-39,999 `\n",
        "    * `#5 documents 40,000-49,999 `\n",
        "    * `#6 documents 0-9,999 `\n",
        "    * `#7 documents 10,000-19,999 `\n",
        "    * `#8 documents 20,000-29,999 `\n",
        "    * `#9 documents 30,000-39,999 `\n",
        "    * `#10 documents 40,000-49,999` "
      ]
    },
    {
      "cell_type": "code",
      "execution_count": 55,
      "metadata": {
        "id": "Gyka8tf9pWpS"
      },
      "outputs": [],
      "source": [
        "# LDA multicore \n",
        "'''\n",
        "Train your lda model using gensim.models.LdaMulticore and save it to 'lda_model'\n",
        "\n",
        "If Multicore is throwing errors on you laptop, use LDA mono-core, gensim.models.LdaModel\n",
        "'''\n",
        "lda_model = gensim.models.LdaMulticore(corpus_tfidf, num_topics=10, id2word=dictionary, passes=2, workers=2)\n"
      ]
    },
    {
      "cell_type": "code",
      "execution_count": 56,
      "metadata": {
        "id": "jqxcQszBpWpS",
        "colab": {
          "base_uri": "https://localhost:8080/"
        },
        "outputId": "fcb2494a-0914-4ee4-cd65-883133ef75bf"
      },
      "outputs": [
        {
          "output_type": "stream",
          "name": "stdout",
          "text": [
            "Topic: 0 \n",
            "Words: 0.019*\"charg\" + 0.018*\"polic\" + 0.017*\"murder\" + 0.015*\"court\" + 0.013*\"podcast\" + 0.012*\"woman\" + 0.010*\"assault\" + 0.010*\"search\" + 0.010*\"shoot\" + 0.009*\"miss\"\n",
            "\n",
            "\n",
            "Topic: 1 \n",
            "Words: 0.015*\"sport\" + 0.014*\"mine\" + 0.010*\"april\" + 0.009*\"stab\" + 0.009*\"coal\" + 0.009*\"drum\" + 0.008*\"monday\" + 0.007*\"outback\" + 0.006*\"jam\" + 0.006*\"reform\"\n",
            "\n",
            "\n",
            "Topic: 2 \n",
            "Words: 0.011*\"govern\" + 0.010*\"health\" + 0.008*\"fund\" + 0.008*\"asylum\" + 0.008*\"pacif\" + 0.006*\"seeker\" + 0.006*\"servic\" + 0.006*\"michael\" + 0.006*\"indonesia\" + 0.005*\"capit\"\n",
            "\n",
            "\n",
            "Topic: 3 \n",
            "Words: 0.029*\"rural\" + 0.017*\"news\" + 0.015*\"market\" + 0.012*\"busi\" + 0.011*\"farm\" + 0.009*\"rise\" + 0.008*\"nation\" + 0.008*\"share\" + 0.007*\"west\" + 0.007*\"price\"\n",
            "\n",
            "\n",
            "Topic: 4 \n",
            "Words: 0.009*\"abbott\" + 0.008*\"blaze\" + 0.007*\"premier\" + 0.007*\"novemb\" + 0.007*\"august\" + 0.006*\"decemb\" + 0.006*\"sell\" + 0.006*\"fiji\" + 0.006*\"intern\" + 0.006*\"senat\"\n",
            "\n",
            "\n",
            "Topic: 5 \n",
            "Words: 0.010*\"final\" + 0.009*\"quarter\" + 0.009*\"leagu\" + 0.008*\"plead\" + 0.008*\"grain\" + 0.006*\"thursday\" + 0.006*\"world\" + 0.006*\"win\" + 0.006*\"scott\" + 0.006*\"open\"\n",
            "\n",
            "\n",
            "Topic: 6 \n",
            "Words: 0.042*\"interview\" + 0.017*\"weather\" + 0.010*\"crash\" + 0.010*\"fatal\" + 0.009*\"bushfir\" + 0.007*\"driver\" + 0.007*\"victoria\" + 0.007*\"royal\" + 0.007*\"drive\" + 0.007*\"wednesday\"\n",
            "\n",
            "\n",
            "Topic: 7 \n",
            "Words: 0.029*\"countri\" + 0.028*\"hour\" + 0.009*\"wrap\" + 0.008*\"david\" + 0.007*\"januari\" + 0.006*\"drought\" + 0.006*\"western\" + 0.006*\"highlight\" + 0.006*\"shire\" + 0.006*\"invest\"\n",
            "\n",
            "\n",
            "Topic: 8 \n",
            "Words: 0.014*\"grandstand\" + 0.011*\"queensland\" + 0.010*\"south\" + 0.009*\"kill\" + 0.009*\"februari\" + 0.008*\"john\" + 0.007*\"toni\" + 0.007*\"octob\" + 0.006*\"dead\" + 0.006*\"east\"\n",
            "\n",
            "\n",
            "Topic: 9 \n",
            "Words: 0.012*\"march\" + 0.012*\"live\" + 0.010*\"dairi\" + 0.008*\"abus\" + 0.007*\"export\" + 0.007*\"elect\" + 0.007*\"friday\" + 0.007*\"tuesday\" + 0.007*\"parti\" + 0.006*\"korea\"\n",
            "\n",
            "\n"
          ]
        }
      ],
      "source": [
        "'''\n",
        "For each topic, we will explore the words occuring in that topic and its relative weight\n",
        "'''\n",
        "for idx, topic in lda_model.print_topics(-1):\n",
        "    print(\"Topic: {} \\nWords: {}\".format(idx, topic))\n",
        "    print(\"\\n\")"
      ]
    },
    {
      "cell_type": "markdown",
      "metadata": {
        "id": "4XsIs4jrpWpT"
      },
      "source": [
        "### Classification of the topics ###\n",
        "\n",
        "Using the words in each topic and their corresponding weights, what categories were you able to infer?\n",
        "\n",
        "* 0: crime/murder/criminal case\n",
        "* 1: mining/law reform\n",
        "* 2: government/health/international\n",
        "* 3: Rural / Business / Agriculture / Market\n",
        "* 4: Politics / Abbott / Premier\n",
        "* 5: Sports / Finals / League\n",
        "* 6: News / Interview / Weather / Bushfires / Accidents\n",
        "* 7: News / Country / Finance\n",
        "* 8: News / Grandstand / Queensland / Murder\n",
        "* 9: News / Election / Export / Politics / Dairy."
      ]
    },
    {
      "cell_type": "markdown",
      "metadata": {
        "id": "CiKKut8LpWpT"
      },
      "source": [
        "## Step 4.2 Running LDA using TF-IDF ##"
      ]
    },
    {
      "cell_type": "code",
      "execution_count": 58,
      "metadata": {
        "id": "63tGb1QvpWpT"
      },
      "outputs": [],
      "source": [
        "'''\n",
        "Define lda model using corpus_tfidf\n",
        "'''\n",
        "lda_model_tfidf = models.LdaModel(corpus=corpus_tfidf, id2word=dictionary, num_topics=10)\n"
      ]
    },
    {
      "cell_type": "code",
      "execution_count": 59,
      "metadata": {
        "id": "cm1dntNSpWpT",
        "colab": {
          "base_uri": "https://localhost:8080/"
        },
        "outputId": "1139916b-1d0f-429f-8b8b-d5e2d4969f17"
      },
      "outputs": [
        {
          "output_type": "stream",
          "name": "stdout",
          "text": [
            "Topic: 0 Word: 0.021*\"podcast\" + 0.012*\"share\" + 0.011*\"weather\" + 0.009*\"abus\" + 0.009*\"mine\" + 0.008*\"india\" + 0.008*\"japan\" + 0.008*\"child\" + 0.008*\"die\" + 0.008*\"melbourn\"\n",
            "\n",
            "\n",
            "Topic: 1 Word: 0.019*\"march\" + 0.015*\"abbott\" + 0.014*\"live\" + 0.012*\"elect\" + 0.011*\"vote\" + 0.009*\"export\" + 0.009*\"station\" + 0.009*\"media\" + 0.009*\"drum\" + 0.009*\"toni\"\n",
            "\n",
            "\n",
            "Topic: 2 Word: 0.036*\"hour\" + 0.012*\"search\" + 0.011*\"shoot\" + 0.010*\"island\" + 0.009*\"leagu\" + 0.009*\"woman\" + 0.009*\"miss\" + 0.009*\"cyclon\" + 0.009*\"polic\" + 0.009*\"hunter\"\n",
            "\n",
            "\n",
            "Topic: 3 Word: 0.013*\"queensland\" + 0.013*\"hill\" + 0.010*\"brisban\" + 0.009*\"januari\" + 0.009*\"shire\" + 0.008*\"reveal\" + 0.008*\"port\" + 0.007*\"capit\" + 0.006*\"school\" + 0.006*\"student\"\n",
            "\n",
            "\n",
            "Topic: 4 Word: 0.017*\"sydney\" + 0.017*\"murder\" + 0.014*\"grandstand\" + 0.013*\"speak\" + 0.012*\"australian\" + 0.010*\"charg\" + 0.010*\"breakfast\" + 0.010*\"sale\" + 0.009*\"court\" + 0.009*\"trial\"\n",
            "\n",
            "\n",
            "Topic: 5 Word: 0.040*\"interview\" + 0.011*\"season\" + 0.011*\"market\" + 0.010*\"tasmania\" + 0.009*\"local\" + 0.009*\"asylum\" + 0.008*\"job\" + 0.007*\"harvest\" + 0.007*\"david\" + 0.007*\"centr\"\n",
            "\n",
            "\n",
            "Topic: 6 Word: 0.055*\"rural\" + 0.014*\"drought\" + 0.009*\"sign\" + 0.009*\"farmer\" + 0.009*\"dairi\" + 0.009*\"tasmanian\" + 0.008*\"senat\" + 0.008*\"john\" + 0.007*\"food\" + 0.007*\"coal\"\n",
            "\n",
            "\n",
            "Topic: 7 Word: 0.011*\"test\" + 0.011*\"quarter\" + 0.010*\"south\" + 0.010*\"indonesia\" + 0.010*\"west\" + 0.007*\"central\" + 0.007*\"australia\" + 0.007*\"sach\" + 0.007*\"keen\" + 0.007*\"scott\"\n",
            "\n",
            "\n",
            "Topic: 8 Word: 0.024*\"govern\" + 0.019*\"news\" + 0.012*\"gold\" + 0.012*\"cattl\" + 0.012*\"nation\" + 0.012*\"farm\" + 0.012*\"februari\" + 0.012*\"north\" + 0.011*\"coast\" + 0.011*\"assault\"\n",
            "\n",
            "\n",
            "Topic: 9 Word: 0.033*\"countri\" + 0.014*\"april\" + 0.013*\"crash\" + 0.009*\"sentenc\" + 0.009*\"royal\" + 0.009*\"pacif\" + 0.009*\"driver\" + 0.009*\"ash\" + 0.008*\"polic\" + 0.008*\"fatal\"\n",
            "\n",
            "\n"
          ]
        }
      ],
      "source": [
        "'''\n",
        "For each topic, we will explore the words occuring in that topic and its relative weight\n",
        "'''\n",
        "for idx, topic in lda_model_tfidf.print_topics(-1):\n",
        "    print(\"Topic: {} Word: {}\".format(idx, topic))\n",
        "    print(\"\\n\")"
      ]
    },
    {
      "cell_type": "markdown",
      "metadata": {
        "id": "8NNb6jn9pWpT"
      },
      "source": [
        "### Classification of the topics ###\n",
        "\n",
        "As we can see, when using tf-idf, heavier weights are given to words that are not as frequent which results in nouns being factored in. That makes it harder to figure out the categories as nouns can be hard to categorize. This goes to show that the models we apply depend on the type of corpus of text we are dealing with. \n",
        "\n",
        "Using the words in each topic and their corresponding weights, what categories could you find?\n",
        "\n",
        "* 0: Podcasts, weather\n",
        "* 1: Elections, media\n",
        "* 2: Shootings, law enforcement\n",
        "* 3: Queensland, schools\n",
        "* 4: Murder trials, courts\n",
        "* 5: Interviews, local markets\n",
        "* 6: Rural issues, agriculture\n",
        "* 7: Sports, geography\n",
        "* 8: News, farming, law enforcement\n",
        "* 9: Accidents, law enforcement, Royalty"
      ]
    },
    {
      "cell_type": "markdown",
      "metadata": {
        "id": "6hNzckFopWpU"
      },
      "source": [
        "## Step 5.1: Performance evaluation by classifying sample document using LDA Bag of Words model\n",
        "\n",
        "We will check to see where our test document would be classified. "
      ]
    },
    {
      "cell_type": "code",
      "execution_count": 60,
      "metadata": {
        "id": "Uxju2jySpWpU",
        "colab": {
          "base_uri": "https://localhost:8080/"
        },
        "outputId": "122dc841-d4c1-490b-9cad-886860ddeead"
      },
      "outputs": [
        {
          "output_type": "execute_result",
          "data": {
            "text/plain": [
              "['rain', 'help', 'dampen', 'bushfir']"
            ]
          },
          "metadata": {},
          "execution_count": 60
        }
      ],
      "source": [
        "'''\n",
        "Text of sample document 4310\n",
        "'''\n",
        "processed_docs[4310]"
      ]
    },
    {
      "cell_type": "code",
      "execution_count": 61,
      "metadata": {
        "id": "CI2aXinLpWpU",
        "colab": {
          "base_uri": "https://localhost:8080/"
        },
        "outputId": "0aa7fa76-6191-4bce-e203-78234e6c2757"
      },
      "outputs": [
        {
          "output_type": "stream",
          "name": "stdout",
          "text": [
            "\n",
            "Score: 0.8199657201766968\t \n",
            "Topic: 0.042*\"interview\" + 0.017*\"weather\" + 0.010*\"crash\" + 0.010*\"fatal\" + 0.009*\"bushfir\" + 0.007*\"driver\" + 0.007*\"victoria\" + 0.007*\"royal\" + 0.007*\"drive\" + 0.007*\"wednesday\"\n",
            "\n",
            "Score: 0.02001371793448925\t \n",
            "Topic: 0.029*\"countri\" + 0.028*\"hour\" + 0.009*\"wrap\" + 0.008*\"david\" + 0.007*\"januari\" + 0.006*\"drought\" + 0.006*\"western\" + 0.006*\"highlight\" + 0.006*\"shire\" + 0.006*\"invest\"\n",
            "\n",
            "Score: 0.020004399120807648\t \n",
            "Topic: 0.029*\"rural\" + 0.017*\"news\" + 0.015*\"market\" + 0.012*\"busi\" + 0.011*\"farm\" + 0.009*\"rise\" + 0.008*\"nation\" + 0.008*\"share\" + 0.007*\"west\" + 0.007*\"price\"\n",
            "\n",
            "Score: 0.020004330202937126\t \n",
            "Topic: 0.011*\"govern\" + 0.010*\"health\" + 0.008*\"fund\" + 0.008*\"asylum\" + 0.008*\"pacif\" + 0.006*\"seeker\" + 0.006*\"servic\" + 0.006*\"michael\" + 0.006*\"indonesia\" + 0.005*\"capit\"\n",
            "\n",
            "Score: 0.020003367215394974\t \n",
            "Topic: 0.014*\"grandstand\" + 0.011*\"queensland\" + 0.010*\"south\" + 0.009*\"kill\" + 0.009*\"februari\" + 0.008*\"john\" + 0.007*\"toni\" + 0.007*\"octob\" + 0.006*\"dead\" + 0.006*\"east\"\n",
            "\n",
            "Score: 0.020002098754048347\t \n",
            "Topic: 0.015*\"sport\" + 0.014*\"mine\" + 0.010*\"april\" + 0.009*\"stab\" + 0.009*\"coal\" + 0.009*\"drum\" + 0.008*\"monday\" + 0.007*\"outback\" + 0.006*\"jam\" + 0.006*\"reform\"\n",
            "\n",
            "Score: 0.020001862198114395\t \n",
            "Topic: 0.010*\"final\" + 0.009*\"quarter\" + 0.009*\"leagu\" + 0.008*\"plead\" + 0.008*\"grain\" + 0.006*\"thursday\" + 0.006*\"world\" + 0.006*\"win\" + 0.006*\"scott\" + 0.006*\"open\"\n",
            "\n",
            "Score: 0.020001837983727455\t \n",
            "Topic: 0.019*\"charg\" + 0.018*\"polic\" + 0.017*\"murder\" + 0.015*\"court\" + 0.013*\"podcast\" + 0.012*\"woman\" + 0.010*\"assault\" + 0.010*\"search\" + 0.010*\"shoot\" + 0.009*\"miss\"\n",
            "\n",
            "Score: 0.020001335069537163\t \n",
            "Topic: 0.012*\"march\" + 0.012*\"live\" + 0.010*\"dairi\" + 0.008*\"abus\" + 0.007*\"export\" + 0.007*\"elect\" + 0.007*\"friday\" + 0.007*\"tuesday\" + 0.007*\"parti\" + 0.006*\"korea\"\n",
            "\n",
            "Score: 0.020001299679279327\t \n",
            "Topic: 0.009*\"abbott\" + 0.008*\"blaze\" + 0.007*\"premier\" + 0.007*\"novemb\" + 0.007*\"august\" + 0.006*\"decemb\" + 0.006*\"sell\" + 0.006*\"fiji\" + 0.006*\"intern\" + 0.006*\"senat\"\n"
          ]
        }
      ],
      "source": [
        "'''\n",
        "Check which topic our test document belongs to using the LDA Bag of Words model.\n",
        "'''\n",
        "\n",
        "# Our test document is document number 4310\n",
        "for index, score in sorted(lda_model[bow_corpus[document_num]], key=lambda tup: -1*tup[1]):\n",
        "    print(\"\\nScore: {}\\t \\nTopic: {}\".format(score, lda_model.print_topic(index, 10)))"
      ]
    },
    {
      "cell_type": "markdown",
      "metadata": {
        "id": "YJ1_lrAlpWpU"
      },
      "source": [
        "## Step 5.2: Performance evaluation by classifying sample document using LDA TF-IDF model"
      ]
    },
    {
      "cell_type": "code",
      "execution_count": 62,
      "metadata": {
        "id": "bzP-FVoppWpU",
        "colab": {
          "base_uri": "https://localhost:8080/"
        },
        "outputId": "1a15676c-6349-4208-b092-86e78502c267"
      },
      "outputs": [
        {
          "output_type": "stream",
          "name": "stdout",
          "text": [
            "\n",
            "Score: 0.682425320148468\t \n",
            "Topic: 0.033*\"countri\" + 0.014*\"april\" + 0.013*\"crash\" + 0.009*\"sentenc\" + 0.009*\"royal\" + 0.009*\"pacif\" + 0.009*\"driver\" + 0.009*\"ash\" + 0.008*\"polic\" + 0.008*\"fatal\"\n",
            "\n",
            "Score: 0.15753670036792755\t \n",
            "Topic: 0.055*\"rural\" + 0.014*\"drought\" + 0.009*\"sign\" + 0.009*\"farmer\" + 0.009*\"dairi\" + 0.009*\"tasmanian\" + 0.008*\"senat\" + 0.008*\"john\" + 0.007*\"food\" + 0.007*\"coal\"\n",
            "\n",
            "Score: 0.020010273903608322\t \n",
            "Topic: 0.040*\"interview\" + 0.011*\"season\" + 0.011*\"market\" + 0.010*\"tasmania\" + 0.009*\"local\" + 0.009*\"asylum\" + 0.008*\"job\" + 0.007*\"harvest\" + 0.007*\"david\" + 0.007*\"centr\"\n",
            "\n",
            "Score: 0.020007122308015823\t \n",
            "Topic: 0.013*\"queensland\" + 0.013*\"hill\" + 0.010*\"brisban\" + 0.009*\"januari\" + 0.009*\"shire\" + 0.008*\"reveal\" + 0.008*\"port\" + 0.007*\"capit\" + 0.006*\"school\" + 0.006*\"student\"\n",
            "\n",
            "Score: 0.02000468596816063\t \n",
            "Topic: 0.036*\"hour\" + 0.012*\"search\" + 0.011*\"shoot\" + 0.010*\"island\" + 0.009*\"leagu\" + 0.009*\"woman\" + 0.009*\"miss\" + 0.009*\"cyclon\" + 0.009*\"polic\" + 0.009*\"hunter\"\n",
            "\n",
            "Score: 0.020004525780677795\t \n",
            "Topic: 0.011*\"test\" + 0.011*\"quarter\" + 0.010*\"south\" + 0.010*\"indonesia\" + 0.010*\"west\" + 0.007*\"central\" + 0.007*\"australia\" + 0.007*\"sach\" + 0.007*\"keen\" + 0.007*\"scott\"\n",
            "\n",
            "Score: 0.02000444382429123\t \n",
            "Topic: 0.024*\"govern\" + 0.019*\"news\" + 0.012*\"gold\" + 0.012*\"cattl\" + 0.012*\"nation\" + 0.012*\"farm\" + 0.012*\"februari\" + 0.012*\"north\" + 0.011*\"coast\" + 0.011*\"assault\"\n",
            "\n",
            "Score: 0.020002778619527817\t \n",
            "Topic: 0.021*\"podcast\" + 0.012*\"share\" + 0.011*\"weather\" + 0.009*\"abus\" + 0.009*\"mine\" + 0.008*\"india\" + 0.008*\"japan\" + 0.008*\"child\" + 0.008*\"die\" + 0.008*\"melbourn\"\n",
            "\n",
            "Score: 0.020002644509077072\t \n",
            "Topic: 0.017*\"sydney\" + 0.017*\"murder\" + 0.014*\"grandstand\" + 0.013*\"speak\" + 0.012*\"australian\" + 0.010*\"charg\" + 0.010*\"breakfast\" + 0.010*\"sale\" + 0.009*\"court\" + 0.009*\"trial\"\n",
            "\n",
            "Score: 0.02000153809785843\t \n",
            "Topic: 0.019*\"march\" + 0.015*\"abbott\" + 0.014*\"live\" + 0.012*\"elect\" + 0.011*\"vote\" + 0.009*\"export\" + 0.009*\"station\" + 0.009*\"media\" + 0.009*\"drum\" + 0.009*\"toni\"\n"
          ]
        }
      ],
      "source": [
        "'''\n",
        "Check which topic our test document belongs to using the LDA TF-IDF model.\n",
        "Code would be similar to above\n",
        "'''\n",
        "for index, score in sorted(lda_model_tfidf[bow_corpus[document_num]], key=lambda tup: -1*tup[1]):\n",
        "    print(\"\\nScore: {}\\t \\nTopic: {}\".format(score, lda_model_tfidf.print_topic(index, 10)))"
      ]
    },
    {
      "cell_type": "markdown",
      "metadata": {
        "id": "Uk8zE_O0pWpV"
      },
      "source": [
        "## Step 6: Testing model on unseen document ##"
      ]
    },
    {
      "cell_type": "code",
      "execution_count": 63,
      "metadata": {
        "id": "KwUGZYZ6pWpV",
        "colab": {
          "base_uri": "https://localhost:8080/"
        },
        "outputId": "1ec58898-147a-4613-c7db-7edeaaf641f9"
      },
      "outputs": [
        {
          "output_type": "stream",
          "name": "stdout",
          "text": [
            "Score: 0.22000007331371307\t Topic: 0.015*\"sport\" + 0.014*\"mine\" + 0.010*\"april\" + 0.009*\"stab\" + 0.009*\"coal\"\n",
            "Score: 0.22000005841255188\t Topic: 0.012*\"march\" + 0.012*\"live\" + 0.010*\"dairi\" + 0.008*\"abus\" + 0.007*\"export\"\n",
            "Score: 0.2199999988079071\t Topic: 0.042*\"interview\" + 0.017*\"weather\" + 0.010*\"crash\" + 0.010*\"fatal\" + 0.009*\"bushfir\"\n",
            "Score: 0.21999990940093994\t Topic: 0.029*\"countri\" + 0.028*\"hour\" + 0.009*\"wrap\" + 0.008*\"david\" + 0.007*\"januari\"\n",
            "Score: 0.019999999552965164\t Topic: 0.019*\"charg\" + 0.018*\"polic\" + 0.017*\"murder\" + 0.015*\"court\" + 0.013*\"podcast\"\n",
            "Score: 0.019999999552965164\t Topic: 0.011*\"govern\" + 0.010*\"health\" + 0.008*\"fund\" + 0.008*\"asylum\" + 0.008*\"pacif\"\n",
            "Score: 0.019999999552965164\t Topic: 0.029*\"rural\" + 0.017*\"news\" + 0.015*\"market\" + 0.012*\"busi\" + 0.011*\"farm\"\n",
            "Score: 0.019999999552965164\t Topic: 0.009*\"abbott\" + 0.008*\"blaze\" + 0.007*\"premier\" + 0.007*\"novemb\" + 0.007*\"august\"\n",
            "Score: 0.019999999552965164\t Topic: 0.010*\"final\" + 0.009*\"quarter\" + 0.009*\"leagu\" + 0.008*\"plead\" + 0.008*\"grain\"\n",
            "Score: 0.019999999552965164\t Topic: 0.014*\"grandstand\" + 0.011*\"queensland\" + 0.010*\"south\" + 0.009*\"kill\" + 0.009*\"februari\"\n"
          ]
        }
      ],
      "source": [
        "unseen_document = \"My favorite sports activities are running and swimming.\"\n",
        "\n",
        "# Data preprocessing step for the unseen document\n",
        "bow_vector = dictionary.doc2bow(preprocess(unseen_document))\n",
        "\n",
        "for index, score in sorted(lda_model[bow_vector], key=lambda tup: -1*tup[1]):\n",
        "    print(\"Score: {}\\t Topic: {}\".format(score, lda_model.print_topic(index, 5)))"
      ]
    },
    {
      "cell_type": "markdown",
      "metadata": {
        "id": "AupZQpoDpWpV"
      },
      "source": [
        "### Now, look up different ways we can transform our words or use different techniques or improvements that we can make to make our Topic Classifier more accurate. Write them down below:"
      ]
    },
    {
      "cell_type": "markdown",
      "metadata": {
        "id": "Hf0ZZR6HpWpV"
      },
      "source": [
        "**We can:**\n",
        "- Double click here to append points\n",
        "\n",
        "- Fine tune the hyperparameters such as the number of topics, the number of topic words, the number of passes, etc.\n",
        "\n",
        "- Preprocess more like removing stop words and punctuation.\n",
        "\n",
        "- Using pre-trained word embeddings such as Word2Vec or GloVe\n",
        "\n",
        "- Data augmentation"
      ]
    }
  ],
  "metadata": {
    "kernelspec": {
      "display_name": "Python 3",
      "language": "python",
      "name": "python3"
    },
    "language_info": {
      "codemirror_mode": {
        "name": "ipython",
        "version": 3
      },
      "file_extension": ".py",
      "mimetype": "text/x-python",
      "name": "python",
      "nbconvert_exporter": "python",
      "pygments_lexer": "ipython3",
      "version": "3.6.12"
    },
    "colab": {
      "provenance": []
    }
  },
  "nbformat": 4,
  "nbformat_minor": 0
}