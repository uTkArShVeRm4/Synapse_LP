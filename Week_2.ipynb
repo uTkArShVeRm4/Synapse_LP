{
  "nbformat": 4,
  "nbformat_minor": 0,
  "metadata": {
    "colab": {
      "provenance": [],
      "collapsed_sections": [
        "TBnxzVnHW3yh",
        "9FVkCMybXS4V",
        "LQH30rCeX1BP",
        "vUVVIDt-a4MI",
        "ZwZu25PLbbZb",
        "WHlWn6YXYNDU",
        "QPOM6rXpYNDW",
        "LDYWYnvwYNDY",
        "OIFaYgUWYNDa",
        "vWiXgySxYNDd",
        "N6tS1j4iYNDe"
      ]
    },
    "kernelspec": {
      "name": "python3",
      "display_name": "Python 3"
    },
    "language_info": {
      "name": "python"
    }
  },
  "cells": [
    {
      "cell_type": "markdown",
      "source": [
        "# **Task 2**\n",
        "\n",
        "## **DJS Synapse Learning Period**\n",
        "![image.png](data:image/png;base64,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)"
      ],
      "metadata": {
        "id": "cUlD8wVnZ7-4"
      }
    },
    {
      "cell_type": "markdown",
      "source": [
        "Import the required libraries here. It is always better to keep your imports in one place as it makes your code look neater and allows other users to identify what all you have used."
      ],
      "metadata": {
        "id": "aogwa0ugjGJm"
      }
    },
    {
      "cell_type": "code",
      "source": [
        "# Import numpy, pandas, matplotlib, seaborn\n",
        "# Your code starts here. \n",
        "import numpy as np\n",
        "import pandas as pd\n",
        "import matplotlib.pyplot as plt\n",
        "import seaborn as sns\n",
        "# Your code ends here"
      ],
      "metadata": {
        "id": "zZBT5FzqjLE5"
      },
      "execution_count": null,
      "outputs": []
    },
    {
      "cell_type": "markdown",
      "source": [
        "The dataset that we are going to use for this task has already been provided to you. Download and saved the file in a folder called synapse_w2 in the root of your drive.\n",
        "\n",
        "Mount your drive and load the dataset the same way you had loaded in the previous task."
      ],
      "metadata": {
        "id": "6mBlX7pLaE1o"
      }
    },
    {
      "cell_type": "code",
      "execution_count": null,
      "metadata": {
        "id": "0v396qG_Zrqg",
        "colab": {
          "base_uri": "https://localhost:8080/"
        },
        "outputId": "26ef8380-71be-4849-8118-9527bc069c8a"
      },
      "outputs": [
        {
          "output_type": "stream",
          "name": "stdout",
          "text": [
            "Drive already mounted at /content/gdrive; to attempt to forcibly remount, call drive.mount(\"/content/gdrive\", force_remount=True).\n"
          ]
        }
      ],
      "source": [
        "# Your code starts here\n",
        "from google.colab import drive\n",
        "drive.mount(\"/content/gdrive\")\n",
        "# Your code ends here"
      ]
    },
    {
      "cell_type": "code",
      "source": [
        "# Your code starts here\n",
        "housing_data_path = \"/content/gdrive/My Drive/synapse_w2/housing_data.csv\"\n",
        "\n",
        "df = pd.read_csv(housing_data_path)\n",
        "df\n",
        "# Your code ends here"
      ],
      "metadata": {
        "id": "j5NL9Nooe-Rq",
        "colab": {
          "base_uri": "https://localhost:8080/",
          "height": 589
        },
        "outputId": "f73a0baf-ef61-4280-a6e7-7963c241bb0a"
      },
      "execution_count": null,
      "outputs": [
        {
          "output_type": "execute_result",
          "data": {
            "text/plain": [
              "      Avg. Area Income  Avg. Area House Age  Avg. Area Number of Rooms  \\\n",
              "0         79545.458574             5.682861                   7.009188   \n",
              "1         79248.642455             6.002900                   6.730821   \n",
              "2         61287.067179             5.865890                   8.512727   \n",
              "3         63345.240046             7.188236                   5.586729   \n",
              "4         59982.197226             5.040555                   7.839388   \n",
              "...                ...                  ...                        ...   \n",
              "4995      60567.944140             7.830362                   6.137356   \n",
              "4996      78491.275435             6.999135                   6.576763   \n",
              "4997      63390.686886             7.250591                   4.805081   \n",
              "4998      68001.331235             5.534388                   7.130144   \n",
              "4999      65510.581804             5.992305                   6.792336   \n",
              "\n",
              "      Avg. Area Number of Bedrooms  Area Population         Price  \\\n",
              "0                             4.09     23086.800503  1.059034e+06   \n",
              "1                             3.09     40173.072174  1.505891e+06   \n",
              "2                             5.13     36882.159400  1.058988e+06   \n",
              "3                             3.26     34310.242831  1.260617e+06   \n",
              "4                             4.23     26354.109472  6.309435e+05   \n",
              "...                            ...              ...           ...   \n",
              "4995                          3.46     22837.361035  1.060194e+06   \n",
              "4996                          4.02     25616.115489  1.482618e+06   \n",
              "4997                          2.13     33266.145490  1.030730e+06   \n",
              "4998                          5.44     42625.620156  1.198657e+06   \n",
              "4999                          4.07     46501.283803  1.298950e+06   \n",
              "\n",
              "                                                Address  \n",
              "0     208 Michael Ferry Apt. 674\\nLaurabury, NE 3701...  \n",
              "1     188 Johnson Views Suite 079\\nLake Kathleen, CA...  \n",
              "2     9127 Elizabeth Stravenue\\nDanieltown, WI 06482...  \n",
              "3                             USS Barnett\\nFPO AP 44820  \n",
              "4                            USNS Raymond\\nFPO AE 09386  \n",
              "...                                                 ...  \n",
              "4995                   USNS Williams\\nFPO AP 30153-7653  \n",
              "4996              PSC 9258, Box 8489\\nAPO AA 42991-3352  \n",
              "4997  4215 Tracy Garden Suite 076\\nJoshualand, VA 01...  \n",
              "4998                          USS Wallace\\nFPO AE 73316  \n",
              "4999  37778 George Ridges Apt. 509\\nEast Holly, NV 2...  \n",
              "\n",
              "[5000 rows x 7 columns]"
            ],
            "text/html": [
              "\n",
              "  <div id=\"df-beff8503-6d6c-4f07-aca1-c566405c1e7d\">\n",
              "    <div class=\"colab-df-container\">\n",
              "      <div>\n",
              "<style scoped>\n",
              "    .dataframe tbody tr th:only-of-type {\n",
              "        vertical-align: middle;\n",
              "    }\n",
              "\n",
              "    .dataframe tbody tr th {\n",
              "        vertical-align: top;\n",
              "    }\n",
              "\n",
              "    .dataframe thead th {\n",
              "        text-align: right;\n",
              "    }\n",
              "</style>\n",
              "<table border=\"1\" class=\"dataframe\">\n",
              "  <thead>\n",
              "    <tr style=\"text-align: right;\">\n",
              "      <th></th>\n",
              "      <th>Avg. Area Income</th>\n",
              "      <th>Avg. Area House Age</th>\n",
              "      <th>Avg. Area Number of Rooms</th>\n",
              "      <th>Avg. Area Number of Bedrooms</th>\n",
              "      <th>Area Population</th>\n",
              "      <th>Price</th>\n",
              "      <th>Address</th>\n",
              "    </tr>\n",
              "  </thead>\n",
              "  <tbody>\n",
              "    <tr>\n",
              "      <th>0</th>\n",
              "      <td>79545.458574</td>\n",
              "      <td>5.682861</td>\n",
              "      <td>7.009188</td>\n",
              "      <td>4.09</td>\n",
              "      <td>23086.800503</td>\n",
              "      <td>1.059034e+06</td>\n",
              "      <td>208 Michael Ferry Apt. 674\\nLaurabury, NE 3701...</td>\n",
              "    </tr>\n",
              "    <tr>\n",
              "      <th>1</th>\n",
              "      <td>79248.642455</td>\n",
              "      <td>6.002900</td>\n",
              "      <td>6.730821</td>\n",
              "      <td>3.09</td>\n",
              "      <td>40173.072174</td>\n",
              "      <td>1.505891e+06</td>\n",
              "      <td>188 Johnson Views Suite 079\\nLake Kathleen, CA...</td>\n",
              "    </tr>\n",
              "    <tr>\n",
              "      <th>2</th>\n",
              "      <td>61287.067179</td>\n",
              "      <td>5.865890</td>\n",
              "      <td>8.512727</td>\n",
              "      <td>5.13</td>\n",
              "      <td>36882.159400</td>\n",
              "      <td>1.058988e+06</td>\n",
              "      <td>9127 Elizabeth Stravenue\\nDanieltown, WI 06482...</td>\n",
              "    </tr>\n",
              "    <tr>\n",
              "      <th>3</th>\n",
              "      <td>63345.240046</td>\n",
              "      <td>7.188236</td>\n",
              "      <td>5.586729</td>\n",
              "      <td>3.26</td>\n",
              "      <td>34310.242831</td>\n",
              "      <td>1.260617e+06</td>\n",
              "      <td>USS Barnett\\nFPO AP 44820</td>\n",
              "    </tr>\n",
              "    <tr>\n",
              "      <th>4</th>\n",
              "      <td>59982.197226</td>\n",
              "      <td>5.040555</td>\n",
              "      <td>7.839388</td>\n",
              "      <td>4.23</td>\n",
              "      <td>26354.109472</td>\n",
              "      <td>6.309435e+05</td>\n",
              "      <td>USNS Raymond\\nFPO AE 09386</td>\n",
              "    </tr>\n",
              "    <tr>\n",
              "      <th>...</th>\n",
              "      <td>...</td>\n",
              "      <td>...</td>\n",
              "      <td>...</td>\n",
              "      <td>...</td>\n",
              "      <td>...</td>\n",
              "      <td>...</td>\n",
              "      <td>...</td>\n",
              "    </tr>\n",
              "    <tr>\n",
              "      <th>4995</th>\n",
              "      <td>60567.944140</td>\n",
              "      <td>7.830362</td>\n",
              "      <td>6.137356</td>\n",
              "      <td>3.46</td>\n",
              "      <td>22837.361035</td>\n",
              "      <td>1.060194e+06</td>\n",
              "      <td>USNS Williams\\nFPO AP 30153-7653</td>\n",
              "    </tr>\n",
              "    <tr>\n",
              "      <th>4996</th>\n",
              "      <td>78491.275435</td>\n",
              "      <td>6.999135</td>\n",
              "      <td>6.576763</td>\n",
              "      <td>4.02</td>\n",
              "      <td>25616.115489</td>\n",
              "      <td>1.482618e+06</td>\n",
              "      <td>PSC 9258, Box 8489\\nAPO AA 42991-3352</td>\n",
              "    </tr>\n",
              "    <tr>\n",
              "      <th>4997</th>\n",
              "      <td>63390.686886</td>\n",
              "      <td>7.250591</td>\n",
              "      <td>4.805081</td>\n",
              "      <td>2.13</td>\n",
              "      <td>33266.145490</td>\n",
              "      <td>1.030730e+06</td>\n",
              "      <td>4215 Tracy Garden Suite 076\\nJoshualand, VA 01...</td>\n",
              "    </tr>\n",
              "    <tr>\n",
              "      <th>4998</th>\n",
              "      <td>68001.331235</td>\n",
              "      <td>5.534388</td>\n",
              "      <td>7.130144</td>\n",
              "      <td>5.44</td>\n",
              "      <td>42625.620156</td>\n",
              "      <td>1.198657e+06</td>\n",
              "      <td>USS Wallace\\nFPO AE 73316</td>\n",
              "    </tr>\n",
              "    <tr>\n",
              "      <th>4999</th>\n",
              "      <td>65510.581804</td>\n",
              "      <td>5.992305</td>\n",
              "      <td>6.792336</td>\n",
              "      <td>4.07</td>\n",
              "      <td>46501.283803</td>\n",
              "      <td>1.298950e+06</td>\n",
              "      <td>37778 George Ridges Apt. 509\\nEast Holly, NV 2...</td>\n",
              "    </tr>\n",
              "  </tbody>\n",
              "</table>\n",
              "<p>5000 rows × 7 columns</p>\n",
              "</div>\n",
              "      <button class=\"colab-df-convert\" onclick=\"convertToInteractive('df-beff8503-6d6c-4f07-aca1-c566405c1e7d')\"\n",
              "              title=\"Convert this dataframe to an interactive table.\"\n",
              "              style=\"display:none;\">\n",
              "        \n",
              "  <svg xmlns=\"http://www.w3.org/2000/svg\" height=\"24px\"viewBox=\"0 0 24 24\"\n",
              "       width=\"24px\">\n",
              "    <path d=\"M0 0h24v24H0V0z\" fill=\"none\"/>\n",
              "    <path d=\"M18.56 5.44l.94 2.06.94-2.06 2.06-.94-2.06-.94-.94-2.06-.94 2.06-2.06.94zm-11 1L8.5 8.5l.94-2.06 2.06-.94-2.06-.94L8.5 2.5l-.94 2.06-2.06.94zm10 10l.94 2.06.94-2.06 2.06-.94-2.06-.94-.94-2.06-.94 2.06-2.06.94z\"/><path d=\"M17.41 7.96l-1.37-1.37c-.4-.4-.92-.59-1.43-.59-.52 0-1.04.2-1.43.59L10.3 9.45l-7.72 7.72c-.78.78-.78 2.05 0 2.83L4 21.41c.39.39.9.59 1.41.59.51 0 1.02-.2 1.41-.59l7.78-7.78 2.81-2.81c.8-.78.8-2.07 0-2.86zM5.41 20L4 18.59l7.72-7.72 1.47 1.35L5.41 20z\"/>\n",
              "  </svg>\n",
              "      </button>\n",
              "      \n",
              "  <style>\n",
              "    .colab-df-container {\n",
              "      display:flex;\n",
              "      flex-wrap:wrap;\n",
              "      gap: 12px;\n",
              "    }\n",
              "\n",
              "    .colab-df-convert {\n",
              "      background-color: #E8F0FE;\n",
              "      border: none;\n",
              "      border-radius: 50%;\n",
              "      cursor: pointer;\n",
              "      display: none;\n",
              "      fill: #1967D2;\n",
              "      height: 32px;\n",
              "      padding: 0 0 0 0;\n",
              "      width: 32px;\n",
              "    }\n",
              "\n",
              "    .colab-df-convert:hover {\n",
              "      background-color: #E2EBFA;\n",
              "      box-shadow: 0px 1px 2px rgba(60, 64, 67, 0.3), 0px 1px 3px 1px rgba(60, 64, 67, 0.15);\n",
              "      fill: #174EA6;\n",
              "    }\n",
              "\n",
              "    [theme=dark] .colab-df-convert {\n",
              "      background-color: #3B4455;\n",
              "      fill: #D2E3FC;\n",
              "    }\n",
              "\n",
              "    [theme=dark] .colab-df-convert:hover {\n",
              "      background-color: #434B5C;\n",
              "      box-shadow: 0px 1px 3px 1px rgba(0, 0, 0, 0.15);\n",
              "      filter: drop-shadow(0px 1px 2px rgba(0, 0, 0, 0.3));\n",
              "      fill: #FFFFFF;\n",
              "    }\n",
              "  </style>\n",
              "\n",
              "      <script>\n",
              "        const buttonEl =\n",
              "          document.querySelector('#df-beff8503-6d6c-4f07-aca1-c566405c1e7d button.colab-df-convert');\n",
              "        buttonEl.style.display =\n",
              "          google.colab.kernel.accessAllowed ? 'block' : 'none';\n",
              "\n",
              "        async function convertToInteractive(key) {\n",
              "          const element = document.querySelector('#df-beff8503-6d6c-4f07-aca1-c566405c1e7d');\n",
              "          const dataTable =\n",
              "            await google.colab.kernel.invokeFunction('convertToInteractive',\n",
              "                                                     [key], {});\n",
              "          if (!dataTable) return;\n",
              "\n",
              "          const docLinkHtml = 'Like what you see? Visit the ' +\n",
              "            '<a target=\"_blank\" href=https://colab.research.google.com/notebooks/data_table.ipynb>data table notebook</a>'\n",
              "            + ' to learn more about interactive tables.';\n",
              "          element.innerHTML = '';\n",
              "          dataTable['output_type'] = 'display_data';\n",
              "          await google.colab.output.renderOutput(dataTable, element);\n",
              "          const docLink = document.createElement('div');\n",
              "          docLink.innerHTML = docLinkHtml;\n",
              "          element.appendChild(docLink);\n",
              "        }\n",
              "      </script>\n",
              "    </div>\n",
              "  </div>\n",
              "  "
            ]
          },
          "metadata": {},
          "execution_count": 47
        }
      ]
    },
    {
      "cell_type": "markdown",
      "source": [
        "## **1) Linear Regression on Housing Price**"
      ],
      "metadata": {
        "id": "jyRjRZKGPH4c"
      }
    },
    {
      "cell_type": "markdown",
      "source": [
        "### **EDA: Exploraatory Data Analysis**\n",
        "**'info()' method to check the data types and number**\n"
      ],
      "metadata": {
        "id": "sbTSWxGmP2Eg"
      }
    },
    {
      "cell_type": "code",
      "source": [
        "# Your code starts here\n",
        "df.info()\n",
        "# Your code ends here"
      ],
      "metadata": {
        "id": "T1uqGZBdO73Q",
        "colab": {
          "base_uri": "https://localhost:8080/"
        },
        "outputId": "472529c1-be59-4fb0-bfb9-1fc3d01665c2"
      },
      "execution_count": null,
      "outputs": [
        {
          "output_type": "stream",
          "name": "stdout",
          "text": [
            "<class 'pandas.core.frame.DataFrame'>\n",
            "RangeIndex: 5000 entries, 0 to 4999\n",
            "Data columns (total 7 columns):\n",
            " #   Column                        Non-Null Count  Dtype  \n",
            "---  ------                        --------------  -----  \n",
            " 0   Avg. Area Income              5000 non-null   float64\n",
            " 1   Avg. Area House Age           5000 non-null   float64\n",
            " 2   Avg. Area Number of Rooms     5000 non-null   float64\n",
            " 3   Avg. Area Number of Bedrooms  5000 non-null   float64\n",
            " 4   Area Population               5000 non-null   float64\n",
            " 5   Price                         5000 non-null   float64\n",
            " 6   Address                       5000 non-null   object \n",
            "dtypes: float64(6), object(1)\n",
            "memory usage: 273.6+ KB\n"
          ]
        }
      ]
    },
    {
      "cell_type": "markdown",
      "source": [
        "**Get the statistical summary of the data set**\n",
        "\n",
        "Hint: describe()"
      ],
      "metadata": {
        "id": "eS8IPMiVQR_I"
      }
    },
    {
      "cell_type": "code",
      "source": [
        "# Your code starts here\n",
        "df.describe()\n",
        "# Your code ends here"
      ],
      "metadata": {
        "id": "Fq7dnr5AQRnE",
        "colab": {
          "base_uri": "https://localhost:8080/",
          "height": 300
        },
        "outputId": "0fe1fddb-0381-4249-c069-157cb90d9afd"
      },
      "execution_count": null,
      "outputs": [
        {
          "output_type": "execute_result",
          "data": {
            "text/plain": [
              "       Avg. Area Income  Avg. Area House Age  Avg. Area Number of Rooms  \\\n",
              "count       5000.000000          5000.000000                5000.000000   \n",
              "mean       68583.108984             5.977222                   6.987792   \n",
              "std        10657.991214             0.991456                   1.005833   \n",
              "min        17796.631190             2.644304                   3.236194   \n",
              "25%        61480.562388             5.322283                   6.299250   \n",
              "50%        68804.286404             5.970429                   7.002902   \n",
              "75%        75783.338666             6.650808                   7.665871   \n",
              "max       107701.748378             9.519088                  10.759588   \n",
              "\n",
              "       Avg. Area Number of Bedrooms  Area Population         Price  \n",
              "count                   5000.000000      5000.000000  5.000000e+03  \n",
              "mean                       3.981330     36163.516039  1.232073e+06  \n",
              "std                        1.234137      9925.650114  3.531176e+05  \n",
              "min                        2.000000       172.610686  1.593866e+04  \n",
              "25%                        3.140000     29403.928702  9.975771e+05  \n",
              "50%                        4.050000     36199.406689  1.232669e+06  \n",
              "75%                        4.490000     42861.290769  1.471210e+06  \n",
              "max                        6.500000     69621.713378  2.469066e+06  "
            ],
            "text/html": [
              "\n",
              "  <div id=\"df-a102862e-9552-4e26-8781-5ce6c74fd20f\">\n",
              "    <div class=\"colab-df-container\">\n",
              "      <div>\n",
              "<style scoped>\n",
              "    .dataframe tbody tr th:only-of-type {\n",
              "        vertical-align: middle;\n",
              "    }\n",
              "\n",
              "    .dataframe tbody tr th {\n",
              "        vertical-align: top;\n",
              "    }\n",
              "\n",
              "    .dataframe thead th {\n",
              "        text-align: right;\n",
              "    }\n",
              "</style>\n",
              "<table border=\"1\" class=\"dataframe\">\n",
              "  <thead>\n",
              "    <tr style=\"text-align: right;\">\n",
              "      <th></th>\n",
              "      <th>Avg. Area Income</th>\n",
              "      <th>Avg. Area House Age</th>\n",
              "      <th>Avg. Area Number of Rooms</th>\n",
              "      <th>Avg. Area Number of Bedrooms</th>\n",
              "      <th>Area Population</th>\n",
              "      <th>Price</th>\n",
              "    </tr>\n",
              "  </thead>\n",
              "  <tbody>\n",
              "    <tr>\n",
              "      <th>count</th>\n",
              "      <td>5000.000000</td>\n",
              "      <td>5000.000000</td>\n",
              "      <td>5000.000000</td>\n",
              "      <td>5000.000000</td>\n",
              "      <td>5000.000000</td>\n",
              "      <td>5.000000e+03</td>\n",
              "    </tr>\n",
              "    <tr>\n",
              "      <th>mean</th>\n",
              "      <td>68583.108984</td>\n",
              "      <td>5.977222</td>\n",
              "      <td>6.987792</td>\n",
              "      <td>3.981330</td>\n",
              "      <td>36163.516039</td>\n",
              "      <td>1.232073e+06</td>\n",
              "    </tr>\n",
              "    <tr>\n",
              "      <th>std</th>\n",
              "      <td>10657.991214</td>\n",
              "      <td>0.991456</td>\n",
              "      <td>1.005833</td>\n",
              "      <td>1.234137</td>\n",
              "      <td>9925.650114</td>\n",
              "      <td>3.531176e+05</td>\n",
              "    </tr>\n",
              "    <tr>\n",
              "      <th>min</th>\n",
              "      <td>17796.631190</td>\n",
              "      <td>2.644304</td>\n",
              "      <td>3.236194</td>\n",
              "      <td>2.000000</td>\n",
              "      <td>172.610686</td>\n",
              "      <td>1.593866e+04</td>\n",
              "    </tr>\n",
              "    <tr>\n",
              "      <th>25%</th>\n",
              "      <td>61480.562388</td>\n",
              "      <td>5.322283</td>\n",
              "      <td>6.299250</td>\n",
              "      <td>3.140000</td>\n",
              "      <td>29403.928702</td>\n",
              "      <td>9.975771e+05</td>\n",
              "    </tr>\n",
              "    <tr>\n",
              "      <th>50%</th>\n",
              "      <td>68804.286404</td>\n",
              "      <td>5.970429</td>\n",
              "      <td>7.002902</td>\n",
              "      <td>4.050000</td>\n",
              "      <td>36199.406689</td>\n",
              "      <td>1.232669e+06</td>\n",
              "    </tr>\n",
              "    <tr>\n",
              "      <th>75%</th>\n",
              "      <td>75783.338666</td>\n",
              "      <td>6.650808</td>\n",
              "      <td>7.665871</td>\n",
              "      <td>4.490000</td>\n",
              "      <td>42861.290769</td>\n",
              "      <td>1.471210e+06</td>\n",
              "    </tr>\n",
              "    <tr>\n",
              "      <th>max</th>\n",
              "      <td>107701.748378</td>\n",
              "      <td>9.519088</td>\n",
              "      <td>10.759588</td>\n",
              "      <td>6.500000</td>\n",
              "      <td>69621.713378</td>\n",
              "      <td>2.469066e+06</td>\n",
              "    </tr>\n",
              "  </tbody>\n",
              "</table>\n",
              "</div>\n",
              "      <button class=\"colab-df-convert\" onclick=\"convertToInteractive('df-a102862e-9552-4e26-8781-5ce6c74fd20f')\"\n",
              "              title=\"Convert this dataframe to an interactive table.\"\n",
              "              style=\"display:none;\">\n",
              "        \n",
              "  <svg xmlns=\"http://www.w3.org/2000/svg\" height=\"24px\"viewBox=\"0 0 24 24\"\n",
              "       width=\"24px\">\n",
              "    <path d=\"M0 0h24v24H0V0z\" fill=\"none\"/>\n",
              "    <path d=\"M18.56 5.44l.94 2.06.94-2.06 2.06-.94-2.06-.94-.94-2.06-.94 2.06-2.06.94zm-11 1L8.5 8.5l.94-2.06 2.06-.94-2.06-.94L8.5 2.5l-.94 2.06-2.06.94zm10 10l.94 2.06.94-2.06 2.06-.94-2.06-.94-.94-2.06-.94 2.06-2.06.94z\"/><path d=\"M17.41 7.96l-1.37-1.37c-.4-.4-.92-.59-1.43-.59-.52 0-1.04.2-1.43.59L10.3 9.45l-7.72 7.72c-.78.78-.78 2.05 0 2.83L4 21.41c.39.39.9.59 1.41.59.51 0 1.02-.2 1.41-.59l7.78-7.78 2.81-2.81c.8-.78.8-2.07 0-2.86zM5.41 20L4 18.59l7.72-7.72 1.47 1.35L5.41 20z\"/>\n",
              "  </svg>\n",
              "      </button>\n",
              "      \n",
              "  <style>\n",
              "    .colab-df-container {\n",
              "      display:flex;\n",
              "      flex-wrap:wrap;\n",
              "      gap: 12px;\n",
              "    }\n",
              "\n",
              "    .colab-df-convert {\n",
              "      background-color: #E8F0FE;\n",
              "      border: none;\n",
              "      border-radius: 50%;\n",
              "      cursor: pointer;\n",
              "      display: none;\n",
              "      fill: #1967D2;\n",
              "      height: 32px;\n",
              "      padding: 0 0 0 0;\n",
              "      width: 32px;\n",
              "    }\n",
              "\n",
              "    .colab-df-convert:hover {\n",
              "      background-color: #E2EBFA;\n",
              "      box-shadow: 0px 1px 2px rgba(60, 64, 67, 0.3), 0px 1px 3px 1px rgba(60, 64, 67, 0.15);\n",
              "      fill: #174EA6;\n",
              "    }\n",
              "\n",
              "    [theme=dark] .colab-df-convert {\n",
              "      background-color: #3B4455;\n",
              "      fill: #D2E3FC;\n",
              "    }\n",
              "\n",
              "    [theme=dark] .colab-df-convert:hover {\n",
              "      background-color: #434B5C;\n",
              "      box-shadow: 0px 1px 3px 1px rgba(0, 0, 0, 0.15);\n",
              "      filter: drop-shadow(0px 1px 2px rgba(0, 0, 0, 0.3));\n",
              "      fill: #FFFFFF;\n",
              "    }\n",
              "  </style>\n",
              "\n",
              "      <script>\n",
              "        const buttonEl =\n",
              "          document.querySelector('#df-a102862e-9552-4e26-8781-5ce6c74fd20f button.colab-df-convert');\n",
              "        buttonEl.style.display =\n",
              "          google.colab.kernel.accessAllowed ? 'block' : 'none';\n",
              "\n",
              "        async function convertToInteractive(key) {\n",
              "          const element = document.querySelector('#df-a102862e-9552-4e26-8781-5ce6c74fd20f');\n",
              "          const dataTable =\n",
              "            await google.colab.kernel.invokeFunction('convertToInteractive',\n",
              "                                                     [key], {});\n",
              "          if (!dataTable) return;\n",
              "\n",
              "          const docLinkHtml = 'Like what you see? Visit the ' +\n",
              "            '<a target=\"_blank\" href=https://colab.research.google.com/notebooks/data_table.ipynb>data table notebook</a>'\n",
              "            + ' to learn more about interactive tables.';\n",
              "          element.innerHTML = '';\n",
              "          dataTable['output_type'] = 'display_data';\n",
              "          await google.colab.output.renderOutput(dataTable, element);\n",
              "          const docLink = document.createElement('div');\n",
              "          docLink.innerHTML = docLinkHtml;\n",
              "          element.appendChild(docLink);\n",
              "        }\n",
              "      </script>\n",
              "    </div>\n",
              "  </div>\n",
              "  "
            ]
          },
          "metadata": {},
          "execution_count": 49
        }
      ]
    },
    {
      "cell_type": "markdown",
      "source": [
        "**Print the names of the columns(features)**"
      ],
      "metadata": {
        "id": "fKhoDVQjQcyS"
      }
    },
    {
      "cell_type": "code",
      "source": [
        "# Your code starts here\n",
        "print(df.columns)\n",
        "# Your code ends here"
      ],
      "metadata": {
        "id": "YeGasvJhQO3q",
        "colab": {
          "base_uri": "https://localhost:8080/"
        },
        "outputId": "c043931d-b43a-42f8-fed5-294d798d4268"
      },
      "execution_count": null,
      "outputs": [
        {
          "output_type": "stream",
          "name": "stdout",
          "text": [
            "Index(['Avg. Area Income', 'Avg. Area House Age', 'Avg. Area Number of Rooms',\n",
            "       'Avg. Area Number of Bedrooms', 'Area Population', 'Price', 'Address'],\n",
            "      dtype='object')\n"
          ]
        }
      ]
    },
    {
      "cell_type": "markdown",
      "source": [
        "### Basic plotting and visualization\n",
        "**The target quantity is price. Let us see its distribution.**\n",
        "\n",
        "Plot a histogram of Price. Choose the number of bins by experimenting a little. (Expected: a bell curve shape)"
      ],
      "metadata": {
        "id": "Euutix0SQfIf"
      }
    },
    {
      "cell_type": "code",
      "source": [
        "# Your code starts here\n",
        "histogram = df['Price'].plot.hist(bins=15)\n",
        "# Your code ends here"
      ],
      "metadata": {
        "id": "v0DPmFFlQO0s",
        "colab": {
          "base_uri": "https://localhost:8080/",
          "height": 278
        },
        "outputId": "dc6dd5b6-9b6e-41ef-f505-7a5c162fb378"
      },
      "execution_count": null,
      "outputs": [
        {
          "output_type": "display_data",
          "data": {
            "text/plain": [
              "<Figure size 432x288 with 1 Axes>"
            ],
            "image/png": "[encoded data removed]"
          },
          "metadata": {
            "needs_background": "light"
          }
        }
      ]
    },
    {
      "cell_type": "markdown",
      "source": [
        "**Let us see how the different features are correlated with each other by printing a Correlation Matrix**\n",
        "\n",
        "Hint: corr()\n",
        "\n",
        "Google out the meaning of the values you achieve by using this function."
      ],
      "metadata": {
        "id": "FXj1Ql5cQ0Pj"
      }
    },
    {
      "cell_type": "code",
      "source": [
        "# Your code starts here\n",
        "df.corr()\n",
        "# Your code ends here"
      ],
      "metadata": {
        "id": "GBWlIgz6Qz-P",
        "colab": {
          "base_uri": "https://localhost:8080/",
          "height": 316
        },
        "outputId": "0c4b650b-46ce-45fe-8057-f83acd83c2f9"
      },
      "execution_count": null,
      "outputs": [
        {
          "output_type": "execute_result",
          "data": {
            "text/plain": [
              "                              Avg. Area Income  Avg. Area House Age  \\\n",
              "Avg. Area Income                      1.000000            -0.002007   \n",
              "Avg. Area House Age                  -0.002007             1.000000   \n",
              "Avg. Area Number of Rooms            -0.011032            -0.009428   \n",
              "Avg. Area Number of Bedrooms          0.019788             0.006149   \n",
              "Area Population                      -0.016234            -0.018743   \n",
              "Price                                 0.639734             0.452543   \n",
              "\n",
              "                              Avg. Area Number of Rooms  \\\n",
              "Avg. Area Income                              -0.011032   \n",
              "Avg. Area House Age                           -0.009428   \n",
              "Avg. Area Number of Rooms                      1.000000   \n",
              "Avg. Area Number of Bedrooms                   0.462695   \n",
              "Area Population                                0.002040   \n",
              "Price                                          0.335664   \n",
              "\n",
              "                              Avg. Area Number of Bedrooms  Area Population  \\\n",
              "Avg. Area Income                                  0.019788        -0.016234   \n",
              "Avg. Area House Age                               0.006149        -0.018743   \n",
              "Avg. Area Number of Rooms                         0.462695         0.002040   \n",
              "Avg. Area Number of Bedrooms                      1.000000        -0.022168   \n",
              "Area Population                                  -0.022168         1.000000   \n",
              "Price                                             0.171071         0.408556   \n",
              "\n",
              "                                 Price  \n",
              "Avg. Area Income              0.639734  \n",
              "Avg. Area House Age           0.452543  \n",
              "Avg. Area Number of Rooms     0.335664  \n",
              "Avg. Area Number of Bedrooms  0.171071  \n",
              "Area Population               0.408556  \n",
              "Price                         1.000000  "
            ],
            "text/html": [
              "\n",
              "  <div id=\"df-842d4a48-788e-42e4-a4fb-8a6060bad164\">\n",
              "    <div class=\"colab-df-container\">\n",
              "      <div>\n",
              "<style scoped>\n",
              "    .dataframe tbody tr th:only-of-type {\n",
              "        vertical-align: middle;\n",
              "    }\n",
              "\n",
              "    .dataframe tbody tr th {\n",
              "        vertical-align: top;\n",
              "    }\n",
              "\n",
              "    .dataframe thead th {\n",
              "        text-align: right;\n",
              "    }\n",
              "</style>\n",
              "<table border=\"1\" class=\"dataframe\">\n",
              "  <thead>\n",
              "    <tr style=\"text-align: right;\">\n",
              "      <th></th>\n",
              "      <th>Avg. Area Income</th>\n",
              "      <th>Avg. Area House Age</th>\n",
              "      <th>Avg. Area Number of Rooms</th>\n",
              "      <th>Avg. Area Number of Bedrooms</th>\n",
              "      <th>Area Population</th>\n",
              "      <th>Price</th>\n",
              "    </tr>\n",
              "  </thead>\n",
              "  <tbody>\n",
              "    <tr>\n",
              "      <th>Avg. Area Income</th>\n",
              "      <td>1.000000</td>\n",
              "      <td>-0.002007</td>\n",
              "      <td>-0.011032</td>\n",
              "      <td>0.019788</td>\n",
              "      <td>-0.016234</td>\n",
              "      <td>0.639734</td>\n",
              "    </tr>\n",
              "    <tr>\n",
              "      <th>Avg. Area House Age</th>\n",
              "      <td>-0.002007</td>\n",
              "      <td>1.000000</td>\n",
              "      <td>-0.009428</td>\n",
              "      <td>0.006149</td>\n",
              "      <td>-0.018743</td>\n",
              "      <td>0.452543</td>\n",
              "    </tr>\n",
              "    <tr>\n",
              "      <th>Avg. Area Number of Rooms</th>\n",
              "      <td>-0.011032</td>\n",
              "      <td>-0.009428</td>\n",
              "      <td>1.000000</td>\n",
              "      <td>0.462695</td>\n",
              "      <td>0.002040</td>\n",
              "      <td>0.335664</td>\n",
              "    </tr>\n",
              "    <tr>\n",
              "      <th>Avg. Area Number of Bedrooms</th>\n",
              "      <td>0.019788</td>\n",
              "      <td>0.006149</td>\n",
              "      <td>0.462695</td>\n",
              "      <td>1.000000</td>\n",
              "      <td>-0.022168</td>\n",
              "      <td>0.171071</td>\n",
              "    </tr>\n",
              "    <tr>\n",
              "      <th>Area Population</th>\n",
              "      <td>-0.016234</td>\n",
              "      <td>-0.018743</td>\n",
              "      <td>0.002040</td>\n",
              "      <td>-0.022168</td>\n",
              "      <td>1.000000</td>\n",
              "      <td>0.408556</td>\n",
              "    </tr>\n",
              "    <tr>\n",
              "      <th>Price</th>\n",
              "      <td>0.639734</td>\n",
              "      <td>0.452543</td>\n",
              "      <td>0.335664</td>\n",
              "      <td>0.171071</td>\n",
              "      <td>0.408556</td>\n",
              "      <td>1.000000</td>\n",
              "    </tr>\n",
              "  </tbody>\n",
              "</table>\n",
              "</div>\n",
              "      <button class=\"colab-df-convert\" onclick=\"convertToInteractive('df-842d4a48-788e-42e4-a4fb-8a6060bad164')\"\n",
              "              title=\"Convert this dataframe to an interactive table.\"\n",
              "              style=\"display:none;\">\n",
              "        \n",
              "  <svg xmlns=\"http://www.w3.org/2000/svg\" height=\"24px\"viewBox=\"0 0 24 24\"\n",
              "       width=\"24px\">\n",
              "    <path d=\"M0 0h24v24H0V0z\" fill=\"none\"/>\n",
              "    <path d=\"M18.56 5.44l.94 2.06.94-2.06 2.06-.94-2.06-.94-.94-2.06-.94 2.06-2.06.94zm-11 1L8.5 8.5l.94-2.06 2.06-.94-2.06-.94L8.5 2.5l-.94 2.06-2.06.94zm10 10l.94 2.06.94-2.06 2.06-.94-2.06-.94-.94-2.06-.94 2.06-2.06.94z\"/><path d=\"M17.41 7.96l-1.37-1.37c-.4-.4-.92-.59-1.43-.59-.52 0-1.04.2-1.43.59L10.3 9.45l-7.72 7.72c-.78.78-.78 2.05 0 2.83L4 21.41c.39.39.9.59 1.41.59.51 0 1.02-.2 1.41-.59l7.78-7.78 2.81-2.81c.8-.78.8-2.07 0-2.86zM5.41 20L4 18.59l7.72-7.72 1.47 1.35L5.41 20z\"/>\n",
              "  </svg>\n",
              "      </button>\n",
              "      \n",
              "  <style>\n",
              "    .colab-df-container {\n",
              "      display:flex;\n",
              "      flex-wrap:wrap;\n",
              "      gap: 12px;\n",
              "    }\n",
              "\n",
              "    .colab-df-convert {\n",
              "      background-color: #E8F0FE;\n",
              "      border: none;\n",
              "      border-radius: 50%;\n",
              "      cursor: pointer;\n",
              "      display: none;\n",
              "      fill: #1967D2;\n",
              "      height: 32px;\n",
              "      padding: 0 0 0 0;\n",
              "      width: 32px;\n",
              "    }\n",
              "\n",
              "    .colab-df-convert:hover {\n",
              "      background-color: #E2EBFA;\n",
              "      box-shadow: 0px 1px 2px rgba(60, 64, 67, 0.3), 0px 1px 3px 1px rgba(60, 64, 67, 0.15);\n",
              "      fill: #174EA6;\n",
              "    }\n",
              "\n",
              "    [theme=dark] .colab-df-convert {\n",
              "      background-color: #3B4455;\n",
              "      fill: #D2E3FC;\n",
              "    }\n",
              "\n",
              "    [theme=dark] .colab-df-convert:hover {\n",
              "      background-color: #434B5C;\n",
              "      box-shadow: 0px 1px 3px 1px rgba(0, 0, 0, 0.15);\n",
              "      filter: drop-shadow(0px 1px 2px rgba(0, 0, 0, 0.3));\n",
              "      fill: #FFFFFF;\n",
              "    }\n",
              "  </style>\n",
              "\n",
              "      <script>\n",
              "        const buttonEl =\n",
              "          document.querySelector('#df-842d4a48-788e-42e4-a4fb-8a6060bad164 button.colab-df-convert');\n",
              "        buttonEl.style.display =\n",
              "          google.colab.kernel.accessAllowed ? 'block' : 'none';\n",
              "\n",
              "        async function convertToInteractive(key) {\n",
              "          const element = document.querySelector('#df-842d4a48-788e-42e4-a4fb-8a6060bad164');\n",
              "          const dataTable =\n",
              "            await google.colab.kernel.invokeFunction('convertToInteractive',\n",
              "                                                     [key], {});\n",
              "          if (!dataTable) return;\n",
              "\n",
              "          const docLinkHtml = 'Like what you see? Visit the ' +\n",
              "            '<a target=\"_blank\" href=https://colab.research.google.com/notebooks/data_table.ipynb>data table notebook</a>'\n",
              "            + ' to learn more about interactive tables.';\n",
              "          element.innerHTML = '';\n",
              "          dataTable['output_type'] = 'display_data';\n",
              "          await google.colab.output.renderOutput(dataTable, element);\n",
              "          const docLink = document.createElement('div');\n",
              "          docLink.innerHTML = docLinkHtml;\n",
              "          element.appendChild(docLink);\n",
              "        }\n",
              "      </script>\n",
              "    </div>\n",
              "  </div>\n",
              "  "
            ]
          },
          "metadata": {},
          "execution_count": 52
        }
      ]
    },
    {
      "cell_type": "markdown",
      "source": [
        "### Feature and variable sets\n",
        "Make a list of data frame column names Create a new dataframe containing all the numerical training features(note that Address is a string so ignore that) and store it in a variable called \"X\"\n",
        "\n",
        "Then create a new dataframe containing the target (Price) and store it in a variable called \"y\""
      ],
      "metadata": {
        "id": "TBnxzVnHW3yh"
      }
    },
    {
      "cell_type": "code",
      "source": [
        "# Your code starts here\n",
        "col = df.columns\n",
        "X = df.drop(['Price','Address'],axis=1)\n",
        "y = df['Price']\n",
        "# Your code ends here"
      ],
      "metadata": {
        "id": "5rkTcvLQVP0Z"
      },
      "execution_count": null,
      "outputs": []
    },
    {
      "cell_type": "code",
      "source": [
        "# This code should print (5000, 5) and (5000,) if everything is correct\n",
        "print(X.shape, y.shape)"
      ],
      "metadata": {
        "id": "GHXCMeQXXBhB",
        "colab": {
          "base_uri": "https://localhost:8080/"
        },
        "outputId": "eed97f70-2d66-408d-f59d-510c9cdd5359"
      },
      "execution_count": null,
      "outputs": [
        {
          "output_type": "stream",
          "name": "stdout",
          "text": [
            "(5000, 5) (5000,)\n"
          ]
        }
      ]
    },
    {
      "cell_type": "code",
      "source": [
        "# print a few record of X\n",
        "X.head()"
      ],
      "metadata": {
        "id": "21gdzBDgXDZK",
        "colab": {
          "base_uri": "https://localhost:8080/",
          "height": 206
        },
        "outputId": "9e4b64a1-971b-49d2-a064-e5f15c9bef08"
      },
      "execution_count": null,
      "outputs": [
        {
          "output_type": "execute_result",
          "data": {
            "text/plain": [
              "   Avg. Area Income  Avg. Area House Age  Avg. Area Number of Rooms  \\\n",
              "0      79545.458574             5.682861                   7.009188   \n",
              "1      79248.642455             6.002900                   6.730821   \n",
              "2      61287.067179             5.865890                   8.512727   \n",
              "3      63345.240046             7.188236                   5.586729   \n",
              "4      59982.197226             5.040555                   7.839388   \n",
              "\n",
              "   Avg. Area Number of Bedrooms  Area Population  \n",
              "0                          4.09     23086.800503  \n",
              "1                          3.09     40173.072174  \n",
              "2                          5.13     36882.159400  \n",
              "3                          3.26     34310.242831  \n",
              "4                          4.23     26354.109472  "
            ],
            "text/html": [
              "\n",
              "  <div id=\"df-2c86f2c9-49b1-49e4-ac39-eb66e82bd34e\">\n",
              "    <div class=\"colab-df-container\">\n",
              "      <div>\n",
              "<style scoped>\n",
              "    .dataframe tbody tr th:only-of-type {\n",
              "        vertical-align: middle;\n",
              "    }\n",
              "\n",
              "    .dataframe tbody tr th {\n",
              "        vertical-align: top;\n",
              "    }\n",
              "\n",
              "    .dataframe thead th {\n",
              "        text-align: right;\n",
              "    }\n",
              "</style>\n",
              "<table border=\"1\" class=\"dataframe\">\n",
              "  <thead>\n",
              "    <tr style=\"text-align: right;\">\n",
              "      <th></th>\n",
              "      <th>Avg. Area Income</th>\n",
              "      <th>Avg. Area House Age</th>\n",
              "      <th>Avg. Area Number of Rooms</th>\n",
              "      <th>Avg. Area Number of Bedrooms</th>\n",
              "      <th>Area Population</th>\n",
              "    </tr>\n",
              "  </thead>\n",
              "  <tbody>\n",
              "    <tr>\n",
              "      <th>0</th>\n",
              "      <td>79545.458574</td>\n",
              "      <td>5.682861</td>\n",
              "      <td>7.009188</td>\n",
              "      <td>4.09</td>\n",
              "      <td>23086.800503</td>\n",
              "    </tr>\n",
              "    <tr>\n",
              "      <th>1</th>\n",
              "      <td>79248.642455</td>\n",
              "      <td>6.002900</td>\n",
              "      <td>6.730821</td>\n",
              "      <td>3.09</td>\n",
              "      <td>40173.072174</td>\n",
              "    </tr>\n",
              "    <tr>\n",
              "      <th>2</th>\n",
              "      <td>61287.067179</td>\n",
              "      <td>5.865890</td>\n",
              "      <td>8.512727</td>\n",
              "      <td>5.13</td>\n",
              "      <td>36882.159400</td>\n",
              "    </tr>\n",
              "    <tr>\n",
              "      <th>3</th>\n",
              "      <td>63345.240046</td>\n",
              "      <td>7.188236</td>\n",
              "      <td>5.586729</td>\n",
              "      <td>3.26</td>\n",
              "      <td>34310.242831</td>\n",
              "    </tr>\n",
              "    <tr>\n",
              "      <th>4</th>\n",
              "      <td>59982.197226</td>\n",
              "      <td>5.040555</td>\n",
              "      <td>7.839388</td>\n",
              "      <td>4.23</td>\n",
              "      <td>26354.109472</td>\n",
              "    </tr>\n",
              "  </tbody>\n",
              "</table>\n",
              "</div>\n",
              "      <button class=\"colab-df-convert\" onclick=\"convertToInteractive('df-2c86f2c9-49b1-49e4-ac39-eb66e82bd34e')\"\n",
              "              title=\"Convert this dataframe to an interactive table.\"\n",
              "              style=\"display:none;\">\n",
              "        \n",
              "  <svg xmlns=\"http://www.w3.org/2000/svg\" height=\"24px\"viewBox=\"0 0 24 24\"\n",
              "       width=\"24px\">\n",
              "    <path d=\"M0 0h24v24H0V0z\" fill=\"none\"/>\n",
              "    <path d=\"M18.56 5.44l.94 2.06.94-2.06 2.06-.94-2.06-.94-.94-2.06-.94 2.06-2.06.94zm-11 1L8.5 8.5l.94-2.06 2.06-.94-2.06-.94L8.5 2.5l-.94 2.06-2.06.94zm10 10l.94 2.06.94-2.06 2.06-.94-2.06-.94-.94-2.06-.94 2.06-2.06.94z\"/><path d=\"M17.41 7.96l-1.37-1.37c-.4-.4-.92-.59-1.43-.59-.52 0-1.04.2-1.43.59L10.3 9.45l-7.72 7.72c-.78.78-.78 2.05 0 2.83L4 21.41c.39.39.9.59 1.41.59.51 0 1.02-.2 1.41-.59l7.78-7.78 2.81-2.81c.8-.78.8-2.07 0-2.86zM5.41 20L4 18.59l7.72-7.72 1.47 1.35L5.41 20z\"/>\n",
              "  </svg>\n",
              "      </button>\n",
              "      \n",
              "  <style>\n",
              "    .colab-df-container {\n",
              "      display:flex;\n",
              "      flex-wrap:wrap;\n",
              "      gap: 12px;\n",
              "    }\n",
              "\n",
              "    .colab-df-convert {\n",
              "      background-color: #E8F0FE;\n",
              "      border: none;\n",
              "      border-radius: 50%;\n",
              "      cursor: pointer;\n",
              "      display: none;\n",
              "      fill: #1967D2;\n",
              "      height: 32px;\n",
              "      padding: 0 0 0 0;\n",
              "      width: 32px;\n",
              "    }\n",
              "\n",
              "    .colab-df-convert:hover {\n",
              "      background-color: #E2EBFA;\n",
              "      box-shadow: 0px 1px 2px rgba(60, 64, 67, 0.3), 0px 1px 3px 1px rgba(60, 64, 67, 0.15);\n",
              "      fill: #174EA6;\n",
              "    }\n",
              "\n",
              "    [theme=dark] .colab-df-convert {\n",
              "      background-color: #3B4455;\n",
              "      fill: #D2E3FC;\n",
              "    }\n",
              "\n",
              "    [theme=dark] .colab-df-convert:hover {\n",
              "      background-color: #434B5C;\n",
              "      box-shadow: 0px 1px 3px 1px rgba(0, 0, 0, 0.15);\n",
              "      filter: drop-shadow(0px 1px 2px rgba(0, 0, 0, 0.3));\n",
              "      fill: #FFFFFF;\n",
              "    }\n",
              "  </style>\n",
              "\n",
              "      <script>\n",
              "        const buttonEl =\n",
              "          document.querySelector('#df-2c86f2c9-49b1-49e4-ac39-eb66e82bd34e button.colab-df-convert');\n",
              "        buttonEl.style.display =\n",
              "          google.colab.kernel.accessAllowed ? 'block' : 'none';\n",
              "\n",
              "        async function convertToInteractive(key) {\n",
              "          const element = document.querySelector('#df-2c86f2c9-49b1-49e4-ac39-eb66e82bd34e');\n",
              "          const dataTable =\n",
              "            await google.colab.kernel.invokeFunction('convertToInteractive',\n",
              "                                                     [key], {});\n",
              "          if (!dataTable) return;\n",
              "\n",
              "          const docLinkHtml = 'Like what you see? Visit the ' +\n",
              "            '<a target=\"_blank\" href=https://colab.research.google.com/notebooks/data_table.ipynb>data table notebook</a>'\n",
              "            + ' to learn more about interactive tables.';\n",
              "          element.innerHTML = '';\n",
              "          dataTable['output_type'] = 'display_data';\n",
              "          await google.colab.output.renderOutput(dataTable, element);\n",
              "          const docLink = document.createElement('div');\n",
              "          docLink.innerHTML = docLinkHtml;\n",
              "          element.appendChild(docLink);\n",
              "        }\n",
              "      </script>\n",
              "    </div>\n",
              "  </div>\n",
              "  "
            ]
          },
          "metadata": {},
          "execution_count": 55
        }
      ]
    },
    {
      "cell_type": "code",
      "source": [
        "# print a few record of y\n",
        "y.head()"
      ],
      "metadata": {
        "id": "ATJhnJaJXMLL",
        "colab": {
          "base_uri": "https://localhost:8080/"
        },
        "outputId": "9166223f-5c7e-4150-de6f-37f499cfed51"
      },
      "execution_count": null,
      "outputs": [
        {
          "output_type": "execute_result",
          "data": {
            "text/plain": [
              "0    1.059034e+06\n",
              "1    1.505891e+06\n",
              "2    1.058988e+06\n",
              "3    1.260617e+06\n",
              "4    6.309435e+05\n",
              "Name: Price, dtype: float64"
            ]
          },
          "metadata": {},
          "execution_count": 56
        }
      ]
    },
    {
      "cell_type": "markdown",
      "source": [
        "### **Test-train split**\n",
        "Import train_test_split function from scikit-learn"
      ],
      "metadata": {
        "id": "9FVkCMybXS4V"
      }
    },
    {
      "cell_type": "code",
      "source": [
        "# Import train_test_split Hint: Use sklearn.model_selection\n",
        "from sklearn.model_selection import train_test_split"
      ],
      "metadata": {
        "id": "77Lk2WxyXP4M"
      },
      "execution_count": null,
      "outputs": []
    },
    {
      "cell_type": "markdown",
      "source": [
        "**Create X and y train and test splits in one command using a test size of 0.3 and a random seed**\n",
        "\n",
        "They should be called X_train, X_test, y_train, y_test"
      ],
      "metadata": {
        "id": "coLJu19lXk3Y"
      }
    },
    {
      "cell_type": "code",
      "source": [
        "# Your code starts here\n",
        "X_train, X_test, y_train, y_test = train_test_split(X, y, test_size=0.3, random_state=42)\n",
        "# Your code ends here"
      ],
      "metadata": {
        "id": "c4kizmiwXo9I"
      },
      "execution_count": null,
      "outputs": []
    },
    {
      "cell_type": "markdown",
      "source": [
        "Print the size and shape of each of the train/test splits (it should be in the ratio as per test_size parameter above)"
      ],
      "metadata": {
        "id": "sZAN67bWXxpB"
      }
    },
    {
      "cell_type": "code",
      "source": [
        "# Your code starts here\n",
        "print(X_train.shape,X_test.shape,y_train.shape,y_test.shape)\n",
        "# Your code ends here"
      ],
      "metadata": {
        "id": "AAHcbDP2XySo",
        "colab": {
          "base_uri": "https://localhost:8080/"
        },
        "outputId": "80220290-d521-49f0-8eb8-b3b8a530d517"
      },
      "execution_count": null,
      "outputs": [
        {
          "output_type": "stream",
          "name": "stdout",
          "text": [
            "(3500, 5) (1500, 5) (3500,) (1500,)\n"
          ]
        }
      ]
    },
    {
      "cell_type": "markdown",
      "source": [
        "### **Model fit and training**\n",
        "Import LinearRegression and metrics from scikit-learn"
      ],
      "metadata": {
        "id": "LQH30rCeX1BP"
      }
    },
    {
      "cell_type": "code",
      "source": [
        "# Add your import statement here\n",
        "from sklearn.linear_model import LinearRegression\n",
        "from sklearn import metrics\n",
        "# Create a Linear Regression object 'lm' by calling LinearRegression()\n",
        "lm = LinearRegression()"
      ],
      "metadata": {
        "id": "d1TAK-KCXzo-"
      },
      "execution_count": null,
      "outputs": []
    },
    {
      "cell_type": "markdown",
      "source": [
        "**Fit the model on to the instantiated object itself using the X_train and y_train created earlier. No need to create another variable**\n",
        "\n",
        "Hint: lm.fit()"
      ],
      "metadata": {
        "id": "tKOj7YtYYcj6"
      }
    },
    {
      "cell_type": "code",
      "source": [
        "# Your code starts here\n",
        "lm.fit(X_train,y_train)\n",
        "# Your code ends here"
      ],
      "metadata": {
        "id": "2TNr8fc9YYgN",
        "colab": {
          "base_uri": "https://localhost:8080/"
        },
        "outputId": "cf03a36f-24d6-43f5-da74-831f8ff7a9e4"
      },
      "execution_count": null,
      "outputs": [
        {
          "output_type": "execute_result",
          "data": {
            "text/plain": [
              "LinearRegression()"
            ]
          },
          "metadata": {},
          "execution_count": 61
        }
      ]
    },
    {
      "cell_type": "markdown",
      "source": [
        "### **Prediction, error estimate, and regression evaluation matrices**\n",
        "Prediction using the lm model\n",
        "\n",
        "Use lm.predict() on X_test and store them in a variable called \"predictions\".\n",
        "Print type and size of the predictions.\n",
        "\n",
        "Size should be (1500,) if everything is correct."
      ],
      "metadata": {
        "id": "vUVVIDt-a4MI"
      }
    },
    {
      "cell_type": "code",
      "source": [
        "# Your code starts here\n",
        "predictions = lm.predict(X_test)\n",
        "print(predictions.shape, predictions.dtype)\n",
        "# Your code ends here "
      ],
      "metadata": {
        "id": "pA4t5SkCYYcz",
        "colab": {
          "base_uri": "https://localhost:8080/"
        },
        "outputId": "0c0aa5bc-dd1f-465e-d3ca-e32ceb19b7cd"
      },
      "execution_count": null,
      "outputs": [
        {
          "output_type": "stream",
          "name": "stdout",
          "text": [
            "(1500,) float64\n"
          ]
        }
      ]
    },
    {
      "cell_type": "markdown",
      "source": [
        "Since we're done with our predictions, let's compare it with y_test and see how accurate our predictions are.\n",
        "\n",
        "Plot a Scatter plot of predicted price and y_test set to see if the data fall on a 45 degree straight line"
      ],
      "metadata": {
        "id": "weAKeh5IbF--"
      }
    },
    {
      "cell_type": "code",
      "source": [
        "# Your code starts here\n",
        "plt.scatter(predictions,y_test)\n",
        "plt.show()\n",
        "# Your code ends here"
      ],
      "metadata": {
        "id": "EkRzaF2ybG4z",
        "colab": {
          "base_uri": "https://localhost:8080/",
          "height": 289
        },
        "outputId": "99c8a409-2dea-41ce-947c-0b8fadb676b8"
      },
      "execution_count": null,
      "outputs": [
        {
          "output_type": "display_data",
          "data": {
            "text/plain": [
              "<Figure size 432x288 with 1 Axes>"
            ],
            "image/png": "[encoded data removed]"
          },
          "metadata": {
            "needs_background": "light"
          }
        }
      ]
    },
    {
      "cell_type": "markdown",
      "source": [
        "### **Model Evaluation**\n",
        "Since we are using a regression model here, we cannot use the same metrics we had used during our workshop. The metrics we used then were classification metrics. You can explore different regresion metrics here: https://scikit-learn.org/stable/modules/classes.html#regression-metrics"
      ],
      "metadata": {
        "id": "ZwZu25PLbbZb"
      }
    },
    {
      "cell_type": "markdown",
      "source": [
        "**Print the R-square value and round it to 3 decimal places**\n",
        "\n",
        "Hint: sklearn metrics.r2_score"
      ],
      "metadata": {
        "id": "ZzP9fQPPbPtF"
      }
    },
    {
      "cell_type": "code",
      "source": [
        "# Your code starts here\n",
        "metrics.r2_score(y_test,predictions)\n",
        "# Your code ends here"
      ],
      "metadata": {
        "id": "m3CWTBR6bJsf",
        "colab": {
          "base_uri": "https://localhost:8080/"
        },
        "outputId": "45e59a25-d844-49e1-84ed-bd73ff194d26"
      },
      "execution_count": null,
      "outputs": [
        {
          "output_type": "execute_result",
          "data": {
            "text/plain": [
              "0.914681849875402"
            ]
          },
          "metadata": {},
          "execution_count": 64
        }
      ]
    },
    {
      "cell_type": "code",
      "source": [
        "# You may experiment some other regression metrics here\n",
        "metrics.mean_absolute_error(y_test,predictions)"
      ],
      "metadata": {
        "id": "y_LwPT6CbJes",
        "colab": {
          "base_uri": "https://localhost:8080/"
        },
        "outputId": "678461f8-d31d-4e5f-ee81-57842c061229"
      },
      "execution_count": null,
      "outputs": [
        {
          "output_type": "execute_result",
          "data": {
            "text/plain": [
              "81135.56609336872"
            ]
          },
          "metadata": {},
          "execution_count": 65
        }
      ]
    },
    {
      "cell_type": "markdown",
      "source": [],
      "metadata": {
        "id": "xjP75-AXGKke"
      }
    },
    {
      "cell_type": "markdown",
      "source": [
        "# 2) K-nearest neighbor Classification"
      ],
      "metadata": {
        "id": "lbYptOO2GNgG"
      }
    },
    {
      "cell_type": "markdown",
      "metadata": {
        "id": "WHlWn6YXYNDU"
      },
      "source": [
        "### Import dataset"
      ]
    },
    {
      "cell_type": "markdown",
      "metadata": {
        "id": "8RWyQOGrYNDV"
      },
      "source": [
        "**Read classified_data.txt using pandas and call head() to show first few records. Call this dataframe \"df\"** <br>\n",
        "Use \"index_col\" parameter to index the dataframe according to the first column. Otherwise, a new column would get created."
      ]
    },
    {
      "cell_type": "code",
      "metadata": {
        "id": "0GDXB_9GYNDV",
        "colab": {
          "base_uri": "https://localhost:8080/",
          "height": 206
        },
        "outputId": "9352020f-da1c-473d-f958-9fd0a847a900"
      },
      "source": [
        "# your code starts here\n",
        "classified_data_path = \"/content/gdrive/My Drive/synapse_w2/classified_data.txt\"\n",
        "df = pd.read_csv(classified_data_path,index_col = 0)\n",
        "\n",
        "df.head()\n",
        "# your code ends here"
      ],
      "execution_count": null,
      "outputs": [
        {
          "output_type": "execute_result",
          "data": {
            "text/plain": [
              "        WTT       PTI       EQW       SBI       LQE       QWG       FDJ  \\\n",
              "0  0.913917  1.162073  0.567946  0.755464  0.780862  0.352608  0.759697   \n",
              "1  0.635632  1.003722  0.535342  0.825645  0.924109  0.648450  0.675334   \n",
              "2  0.721360  1.201493  0.921990  0.855595  1.526629  0.720781  1.626351   \n",
              "3  1.234204  1.386726  0.653046  0.825624  1.142504  0.875128  1.409708   \n",
              "4  1.279491  0.949750  0.627280  0.668976  1.232537  0.703727  1.115596   \n",
              "\n",
              "        PJF       HQE       NXJ  TARGET CLASS  \n",
              "0  0.643798  0.879422  1.231409             1  \n",
              "1  1.013546  0.621552  1.492702             0  \n",
              "2  1.154483  0.957877  1.285597             0  \n",
              "3  1.380003  1.522692  1.153093             1  \n",
              "4  0.646691  1.463812  1.419167             1  "
            ],
            "text/html": [
              "\n",
              "  <div id=\"df-7d1683af-35fd-475d-8e0b-ad7068319da6\">\n",
              "    <div class=\"colab-df-container\">\n",
              "      <div>\n",
              "<style scoped>\n",
              "    .dataframe tbody tr th:only-of-type {\n",
              "        vertical-align: middle;\n",
              "    }\n",
              "\n",
              "    .dataframe tbody tr th {\n",
              "        vertical-align: top;\n",
              "    }\n",
              "\n",
              "    .dataframe thead th {\n",
              "        text-align: right;\n",
              "    }\n",
              "</style>\n",
              "<table border=\"1\" class=\"dataframe\">\n",
              "  <thead>\n",
              "    <tr style=\"text-align: right;\">\n",
              "      <th></th>\n",
              "      <th>WTT</th>\n",
              "      <th>PTI</th>\n",
              "      <th>EQW</th>\n",
              "      <th>SBI</th>\n",
              "      <th>LQE</th>\n",
              "      <th>QWG</th>\n",
              "      <th>FDJ</th>\n",
              "      <th>PJF</th>\n",
              "      <th>HQE</th>\n",
              "      <th>NXJ</th>\n",
              "      <th>TARGET CLASS</th>\n",
              "    </tr>\n",
              "  </thead>\n",
              "  <tbody>\n",
              "    <tr>\n",
              "      <th>0</th>\n",
              "      <td>0.913917</td>\n",
              "      <td>1.162073</td>\n",
              "      <td>0.567946</td>\n",
              "      <td>0.755464</td>\n",
              "      <td>0.780862</td>\n",
              "      <td>0.352608</td>\n",
              "      <td>0.759697</td>\n",
              "      <td>0.643798</td>\n",
              "      <td>0.879422</td>\n",
              "      <td>1.231409</td>\n",
              "      <td>1</td>\n",
              "    </tr>\n",
              "    <tr>\n",
              "      <th>1</th>\n",
              "      <td>0.635632</td>\n",
              "      <td>1.003722</td>\n",
              "      <td>0.535342</td>\n",
              "      <td>0.825645</td>\n",
              "      <td>0.924109</td>\n",
              "      <td>0.648450</td>\n",
              "      <td>0.675334</td>\n",
              "      <td>1.013546</td>\n",
              "      <td>0.621552</td>\n",
              "      <td>1.492702</td>\n",
              "      <td>0</td>\n",
              "    </tr>\n",
              "    <tr>\n",
              "      <th>2</th>\n",
              "      <td>0.721360</td>\n",
              "      <td>1.201493</td>\n",
              "      <td>0.921990</td>\n",
              "      <td>0.855595</td>\n",
              "      <td>1.526629</td>\n",
              "      <td>0.720781</td>\n",
              "      <td>1.626351</td>\n",
              "      <td>1.154483</td>\n",
              "      <td>0.957877</td>\n",
              "      <td>1.285597</td>\n",
              "      <td>0</td>\n",
              "    </tr>\n",
              "    <tr>\n",
              "      <th>3</th>\n",
              "      <td>1.234204</td>\n",
              "      <td>1.386726</td>\n",
              "      <td>0.653046</td>\n",
              "      <td>0.825624</td>\n",
              "      <td>1.142504</td>\n",
              "      <td>0.875128</td>\n",
              "      <td>1.409708</td>\n",
              "      <td>1.380003</td>\n",
              "      <td>1.522692</td>\n",
              "      <td>1.153093</td>\n",
              "      <td>1</td>\n",
              "    </tr>\n",
              "    <tr>\n",
              "      <th>4</th>\n",
              "      <td>1.279491</td>\n",
              "      <td>0.949750</td>\n",
              "      <td>0.627280</td>\n",
              "      <td>0.668976</td>\n",
              "      <td>1.232537</td>\n",
              "      <td>0.703727</td>\n",
              "      <td>1.115596</td>\n",
              "      <td>0.646691</td>\n",
              "      <td>1.463812</td>\n",
              "      <td>1.419167</td>\n",
              "      <td>1</td>\n",
              "    </tr>\n",
              "  </tbody>\n",
              "</table>\n",
              "</div>\n",
              "      <button class=\"colab-df-convert\" onclick=\"convertToInteractive('df-7d1683af-35fd-475d-8e0b-ad7068319da6')\"\n",
              "              title=\"Convert this dataframe to an interactive table.\"\n",
              "              style=\"display:none;\">\n",
              "        \n",
              "  <svg xmlns=\"http://www.w3.org/2000/svg\" height=\"24px\"viewBox=\"0 0 24 24\"\n",
              "       width=\"24px\">\n",
              "    <path d=\"M0 0h24v24H0V0z\" fill=\"none\"/>\n",
              "    <path d=\"M18.56 5.44l.94 2.06.94-2.06 2.06-.94-2.06-.94-.94-2.06-.94 2.06-2.06.94zm-11 1L8.5 8.5l.94-2.06 2.06-.94-2.06-.94L8.5 2.5l-.94 2.06-2.06.94zm10 10l.94 2.06.94-2.06 2.06-.94-2.06-.94-.94-2.06-.94 2.06-2.06.94z\"/><path d=\"M17.41 7.96l-1.37-1.37c-.4-.4-.92-.59-1.43-.59-.52 0-1.04.2-1.43.59L10.3 9.45l-7.72 7.72c-.78.78-.78 2.05 0 2.83L4 21.41c.39.39.9.59 1.41.59.51 0 1.02-.2 1.41-.59l7.78-7.78 2.81-2.81c.8-.78.8-2.07 0-2.86zM5.41 20L4 18.59l7.72-7.72 1.47 1.35L5.41 20z\"/>\n",
              "  </svg>\n",
              "      </button>\n",
              "      \n",
              "  <style>\n",
              "    .colab-df-container {\n",
              "      display:flex;\n",
              "      flex-wrap:wrap;\n",
              "      gap: 12px;\n",
              "    }\n",
              "\n",
              "    .colab-df-convert {\n",
              "      background-color: #E8F0FE;\n",
              "      border: none;\n",
              "      border-radius: 50%;\n",
              "      cursor: pointer;\n",
              "      display: none;\n",
              "      fill: #1967D2;\n",
              "      height: 32px;\n",
              "      padding: 0 0 0 0;\n",
              "      width: 32px;\n",
              "    }\n",
              "\n",
              "    .colab-df-convert:hover {\n",
              "      background-color: #E2EBFA;\n",
              "      box-shadow: 0px 1px 2px rgba(60, 64, 67, 0.3), 0px 1px 3px 1px rgba(60, 64, 67, 0.15);\n",
              "      fill: #174EA6;\n",
              "    }\n",
              "\n",
              "    [theme=dark] .colab-df-convert {\n",
              "      background-color: #3B4455;\n",
              "      fill: #D2E3FC;\n",
              "    }\n",
              "\n",
              "    [theme=dark] .colab-df-convert:hover {\n",
              "      background-color: #434B5C;\n",
              "      box-shadow: 0px 1px 3px 1px rgba(0, 0, 0, 0.15);\n",
              "      filter: drop-shadow(0px 1px 2px rgba(0, 0, 0, 0.3));\n",
              "      fill: #FFFFFF;\n",
              "    }\n",
              "  </style>\n",
              "\n",
              "      <script>\n",
              "        const buttonEl =\n",
              "          document.querySelector('#df-7d1683af-35fd-475d-8e0b-ad7068319da6 button.colab-df-convert');\n",
              "        buttonEl.style.display =\n",
              "          google.colab.kernel.accessAllowed ? 'block' : 'none';\n",
              "\n",
              "        async function convertToInteractive(key) {\n",
              "          const element = document.querySelector('#df-7d1683af-35fd-475d-8e0b-ad7068319da6');\n",
              "          const dataTable =\n",
              "            await google.colab.kernel.invokeFunction('convertToInteractive',\n",
              "                                                     [key], {});\n",
              "          if (!dataTable) return;\n",
              "\n",
              "          const docLinkHtml = 'Like what you see? Visit the ' +\n",
              "            '<a target=\"_blank\" href=https://colab.research.google.com/notebooks/data_table.ipynb>data table notebook</a>'\n",
              "            + ' to learn more about interactive tables.';\n",
              "          element.innerHTML = '';\n",
              "          dataTable['output_type'] = 'display_data';\n",
              "          await google.colab.output.renderOutput(dataTable, element);\n",
              "          const docLink = document.createElement('div');\n",
              "          docLink.innerHTML = docLinkHtml;\n",
              "          element.appendChild(docLink);\n",
              "        }\n",
              "      </script>\n",
              "    </div>\n",
              "  </div>\n",
              "  "
            ]
          },
          "metadata": {},
          "execution_count": 102
        }
      ]
    },
    {
      "cell_type": "markdown",
      "metadata": {
        "id": "QPOM6rXpYNDW"
      },
      "source": [
        "### Exloratory Data Analysis (EDA)"
      ]
    },
    {
      "cell_type": "markdown",
      "metadata": {
        "id": "2J-RhwE5YNDW"
      },
      "source": [
        "**'info()' method to check the data types and number**"
      ]
    },
    {
      "cell_type": "code",
      "metadata": {
        "id": "LQ27teSgYNDW",
        "colab": {
          "base_uri": "https://localhost:8080/"
        },
        "outputId": "b3927bfd-8de9-4965-bafd-e26fee85e79b"
      },
      "source": [
        "# your code starts here\n",
        "df.info()\n",
        "# your code ends here"
      ],
      "execution_count": null,
      "outputs": [
        {
          "output_type": "stream",
          "name": "stdout",
          "text": [
            "<class 'pandas.core.frame.DataFrame'>\n",
            "Int64Index: 1000 entries, 0 to 999\n",
            "Data columns (total 11 columns):\n",
            " #   Column        Non-Null Count  Dtype  \n",
            "---  ------        --------------  -----  \n",
            " 0   WTT           1000 non-null   float64\n",
            " 1   PTI           1000 non-null   float64\n",
            " 2   EQW           1000 non-null   float64\n",
            " 3   SBI           1000 non-null   float64\n",
            " 4   LQE           1000 non-null   float64\n",
            " 5   QWG           1000 non-null   float64\n",
            " 6   FDJ           1000 non-null   float64\n",
            " 7   PJF           1000 non-null   float64\n",
            " 8   HQE           1000 non-null   float64\n",
            " 9   NXJ           1000 non-null   float64\n",
            " 10  TARGET CLASS  1000 non-null   int64  \n",
            "dtypes: float64(10), int64(1)\n",
            "memory usage: 93.8 KB\n"
          ]
        }
      ]
    },
    {
      "cell_type": "markdown",
      "metadata": {
        "id": "lwSF-PxbYNDX"
      },
      "source": [
        "**Get the statistical summary of the data set** <br>\n",
        "Hint: describe()"
      ]
    },
    {
      "cell_type": "code",
      "metadata": {
        "id": "g7XvMQ5eYNDX",
        "colab": {
          "base_uri": "https://localhost:8080/",
          "height": 300
        },
        "outputId": "5db0aa35-da56-4ce9-cb52-f9afed9f0b5d"
      },
      "source": [
        "# your code starts here\n",
        "df.describe()\n",
        "# your code ends here"
      ],
      "execution_count": null,
      "outputs": [
        {
          "output_type": "execute_result",
          "data": {
            "text/plain": [
              "               WTT          PTI          EQW          SBI          LQE  \\\n",
              "count  1000.000000  1000.000000  1000.000000  1000.000000  1000.000000   \n",
              "mean      0.949682     1.114303     0.834127     0.682099     1.032336   \n",
              "std       0.289635     0.257085     0.291554     0.229645     0.243413   \n",
              "min       0.174412     0.441398     0.170924     0.045027     0.315307   \n",
              "25%       0.742358     0.942071     0.615451     0.515010     0.870855   \n",
              "50%       0.940475     1.118486     0.813264     0.676835     1.035824   \n",
              "75%       1.163295     1.307904     1.028340     0.834317     1.198270   \n",
              "max       1.721779     1.833757     1.722725     1.634884     1.650050   \n",
              "\n",
              "               QWG          FDJ          PJF          HQE          NXJ  \\\n",
              "count  1000.000000  1000.000000  1000.000000  1000.000000  1000.000000   \n",
              "mean      0.943534     0.963422     1.071960     1.158251     1.362725   \n",
              "std       0.256121     0.255118     0.288982     0.293738     0.204225   \n",
              "min       0.262389     0.295228     0.299476     0.365157     0.639693   \n",
              "25%       0.761064     0.784407     0.866306     0.934340     1.222623   \n",
              "50%       0.941502     0.945333     1.065500     1.165556     1.375368   \n",
              "75%       1.123060     1.134852     1.283156     1.383173     1.504832   \n",
              "max       1.666902     1.713342     1.785420     1.885690     1.893950   \n",
              "\n",
              "       TARGET CLASS  \n",
              "count    1000.00000  \n",
              "mean        0.50000  \n",
              "std         0.50025  \n",
              "min         0.00000  \n",
              "25%         0.00000  \n",
              "50%         0.50000  \n",
              "75%         1.00000  \n",
              "max         1.00000  "
            ],
            "text/html": [
              "\n",
              "  <div id=\"df-aee14be3-a835-4243-8ca7-e0fec01e4971\">\n",
              "    <div class=\"colab-df-container\">\n",
              "      <div>\n",
              "<style scoped>\n",
              "    .dataframe tbody tr th:only-of-type {\n",
              "        vertical-align: middle;\n",
              "    }\n",
              "\n",
              "    .dataframe tbody tr th {\n",
              "        vertical-align: top;\n",
              "    }\n",
              "\n",
              "    .dataframe thead th {\n",
              "        text-align: right;\n",
              "    }\n",
              "</style>\n",
              "<table border=\"1\" class=\"dataframe\">\n",
              "  <thead>\n",
              "    <tr style=\"text-align: right;\">\n",
              "      <th></th>\n",
              "      <th>WTT</th>\n",
              "      <th>PTI</th>\n",
              "      <th>EQW</th>\n",
              "      <th>SBI</th>\n",
              "      <th>LQE</th>\n",
              "      <th>QWG</th>\n",
              "      <th>FDJ</th>\n",
              "      <th>PJF</th>\n",
              "      <th>HQE</th>\n",
              "      <th>NXJ</th>\n",
              "      <th>TARGET CLASS</th>\n",
              "    </tr>\n",
              "  </thead>\n",
              "  <tbody>\n",
              "    <tr>\n",
              "      <th>count</th>\n",
              "      <td>1000.000000</td>\n",
              "      <td>1000.000000</td>\n",
              "      <td>1000.000000</td>\n",
              "      <td>1000.000000</td>\n",
              "      <td>1000.000000</td>\n",
              "      <td>1000.000000</td>\n",
              "      <td>1000.000000</td>\n",
              "      <td>1000.000000</td>\n",
              "      <td>1000.000000</td>\n",
              "      <td>1000.000000</td>\n",
              "      <td>1000.00000</td>\n",
              "    </tr>\n",
              "    <tr>\n",
              "      <th>mean</th>\n",
              "      <td>0.949682</td>\n",
              "      <td>1.114303</td>\n",
              "      <td>0.834127</td>\n",
              "      <td>0.682099</td>\n",
              "      <td>1.032336</td>\n",
              "      <td>0.943534</td>\n",
              "      <td>0.963422</td>\n",
              "      <td>1.071960</td>\n",
              "      <td>1.158251</td>\n",
              "      <td>1.362725</td>\n",
              "      <td>0.50000</td>\n",
              "    </tr>\n",
              "    <tr>\n",
              "      <th>std</th>\n",
              "      <td>0.289635</td>\n",
              "      <td>0.257085</td>\n",
              "      <td>0.291554</td>\n",
              "      <td>0.229645</td>\n",
              "      <td>0.243413</td>\n",
              "      <td>0.256121</td>\n",
              "      <td>0.255118</td>\n",
              "      <td>0.288982</td>\n",
              "      <td>0.293738</td>\n",
              "      <td>0.204225</td>\n",
              "      <td>0.50025</td>\n",
              "    </tr>\n",
              "    <tr>\n",
              "      <th>min</th>\n",
              "      <td>0.174412</td>\n",
              "      <td>0.441398</td>\n",
              "      <td>0.170924</td>\n",
              "      <td>0.045027</td>\n",
              "      <td>0.315307</td>\n",
              "      <td>0.262389</td>\n",
              "      <td>0.295228</td>\n",
              "      <td>0.299476</td>\n",
              "      <td>0.365157</td>\n",
              "      <td>0.639693</td>\n",
              "      <td>0.00000</td>\n",
              "    </tr>\n",
              "    <tr>\n",
              "      <th>25%</th>\n",
              "      <td>0.742358</td>\n",
              "      <td>0.942071</td>\n",
              "      <td>0.615451</td>\n",
              "      <td>0.515010</td>\n",
              "      <td>0.870855</td>\n",
              "      <td>0.761064</td>\n",
              "      <td>0.784407</td>\n",
              "      <td>0.866306</td>\n",
              "      <td>0.934340</td>\n",
              "      <td>1.222623</td>\n",
              "      <td>0.00000</td>\n",
              "    </tr>\n",
              "    <tr>\n",
              "      <th>50%</th>\n",
              "      <td>0.940475</td>\n",
              "      <td>1.118486</td>\n",
              "      <td>0.813264</td>\n",
              "      <td>0.676835</td>\n",
              "      <td>1.035824</td>\n",
              "      <td>0.941502</td>\n",
              "      <td>0.945333</td>\n",
              "      <td>1.065500</td>\n",
              "      <td>1.165556</td>\n",
              "      <td>1.375368</td>\n",
              "      <td>0.50000</td>\n",
              "    </tr>\n",
              "    <tr>\n",
              "      <th>75%</th>\n",
              "      <td>1.163295</td>\n",
              "      <td>1.307904</td>\n",
              "      <td>1.028340</td>\n",
              "      <td>0.834317</td>\n",
              "      <td>1.198270</td>\n",
              "      <td>1.123060</td>\n",
              "      <td>1.134852</td>\n",
              "      <td>1.283156</td>\n",
              "      <td>1.383173</td>\n",
              "      <td>1.504832</td>\n",
              "      <td>1.00000</td>\n",
              "    </tr>\n",
              "    <tr>\n",
              "      <th>max</th>\n",
              "      <td>1.721779</td>\n",
              "      <td>1.833757</td>\n",
              "      <td>1.722725</td>\n",
              "      <td>1.634884</td>\n",
              "      <td>1.650050</td>\n",
              "      <td>1.666902</td>\n",
              "      <td>1.713342</td>\n",
              "      <td>1.785420</td>\n",
              "      <td>1.885690</td>\n",
              "      <td>1.893950</td>\n",
              "      <td>1.00000</td>\n",
              "    </tr>\n",
              "  </tbody>\n",
              "</table>\n",
              "</div>\n",
              "      <button class=\"colab-df-convert\" onclick=\"convertToInteractive('df-aee14be3-a835-4243-8ca7-e0fec01e4971')\"\n",
              "              title=\"Convert this dataframe to an interactive table.\"\n",
              "              style=\"display:none;\">\n",
              "        \n",
              "  <svg xmlns=\"http://www.w3.org/2000/svg\" height=\"24px\"viewBox=\"0 0 24 24\"\n",
              "       width=\"24px\">\n",
              "    <path d=\"M0 0h24v24H0V0z\" fill=\"none\"/>\n",
              "    <path d=\"M18.56 5.44l.94 2.06.94-2.06 2.06-.94-2.06-.94-.94-2.06-.94 2.06-2.06.94zm-11 1L8.5 8.5l.94-2.06 2.06-.94-2.06-.94L8.5 2.5l-.94 2.06-2.06.94zm10 10l.94 2.06.94-2.06 2.06-.94-2.06-.94-.94-2.06-.94 2.06-2.06.94z\"/><path d=\"M17.41 7.96l-1.37-1.37c-.4-.4-.92-.59-1.43-.59-.52 0-1.04.2-1.43.59L10.3 9.45l-7.72 7.72c-.78.78-.78 2.05 0 2.83L4 21.41c.39.39.9.59 1.41.59.51 0 1.02-.2 1.41-.59l7.78-7.78 2.81-2.81c.8-.78.8-2.07 0-2.86zM5.41 20L4 18.59l7.72-7.72 1.47 1.35L5.41 20z\"/>\n",
              "  </svg>\n",
              "      </button>\n",
              "      \n",
              "  <style>\n",
              "    .colab-df-container {\n",
              "      display:flex;\n",
              "      flex-wrap:wrap;\n",
              "      gap: 12px;\n",
              "    }\n",
              "\n",
              "    .colab-df-convert {\n",
              "      background-color: #E8F0FE;\n",
              "      border: none;\n",
              "      border-radius: 50%;\n",
              "      cursor: pointer;\n",
              "      display: none;\n",
              "      fill: #1967D2;\n",
              "      height: 32px;\n",
              "      padding: 0 0 0 0;\n",
              "      width: 32px;\n",
              "    }\n",
              "\n",
              "    .colab-df-convert:hover {\n",
              "      background-color: #E2EBFA;\n",
              "      box-shadow: 0px 1px 2px rgba(60, 64, 67, 0.3), 0px 1px 3px 1px rgba(60, 64, 67, 0.15);\n",
              "      fill: #174EA6;\n",
              "    }\n",
              "\n",
              "    [theme=dark] .colab-df-convert {\n",
              "      background-color: #3B4455;\n",
              "      fill: #D2E3FC;\n",
              "    }\n",
              "\n",
              "    [theme=dark] .colab-df-convert:hover {\n",
              "      background-color: #434B5C;\n",
              "      box-shadow: 0px 1px 3px 1px rgba(0, 0, 0, 0.15);\n",
              "      filter: drop-shadow(0px 1px 2px rgba(0, 0, 0, 0.3));\n",
              "      fill: #FFFFFF;\n",
              "    }\n",
              "  </style>\n",
              "\n",
              "      <script>\n",
              "        const buttonEl =\n",
              "          document.querySelector('#df-aee14be3-a835-4243-8ca7-e0fec01e4971 button.colab-df-convert');\n",
              "        buttonEl.style.display =\n",
              "          google.colab.kernel.accessAllowed ? 'block' : 'none';\n",
              "\n",
              "        async function convertToInteractive(key) {\n",
              "          const element = document.querySelector('#df-aee14be3-a835-4243-8ca7-e0fec01e4971');\n",
              "          const dataTable =\n",
              "            await google.colab.kernel.invokeFunction('convertToInteractive',\n",
              "                                                     [key], {});\n",
              "          if (!dataTable) return;\n",
              "\n",
              "          const docLinkHtml = 'Like what you see? Visit the ' +\n",
              "            '<a target=\"_blank\" href=https://colab.research.google.com/notebooks/data_table.ipynb>data table notebook</a>'\n",
              "            + ' to learn more about interactive tables.';\n",
              "          element.innerHTML = '';\n",
              "          dataTable['output_type'] = 'display_data';\n",
              "          await google.colab.output.renderOutput(dataTable, element);\n",
              "          const docLink = document.createElement('div');\n",
              "          docLink.innerHTML = docLinkHtml;\n",
              "          element.appendChild(docLink);\n",
              "        }\n",
              "      </script>\n",
              "    </div>\n",
              "  </div>\n",
              "  "
            ]
          },
          "metadata": {},
          "execution_count": 104
        }
      ]
    },
    {
      "cell_type": "markdown",
      "metadata": {
        "id": "LDYWYnvwYNDY"
      },
      "source": [
        "### Check the spread of the features"
      ]
    },
    {
      "cell_type": "markdown",
      "metadata": {
        "id": "Q0hgD8wlYNDY"
      },
      "source": [
        "**Store the column names in a list**"
      ]
    },
    {
      "cell_type": "code",
      "metadata": {
        "id": "rxAYeNSzYNDY"
      },
      "source": [
        "# your code starts here\n",
        "cols = df.drop('TARGET CLASS',axis=1).columns\n",
        "# your code ends here"
      ],
      "execution_count": null,
      "outputs": []
    },
    {
      "cell_type": "markdown",
      "metadata": {
        "id": "N3g0ISUGYNDZ"
      },
      "source": [
        "**Run a 'for' loop to draw boxplots of all the features for '0' and '1' TARGET CLASS**<br>\n",
        "Hint: Loop through each of the 10 features and draw a separate boxplot. You should have 10 boxplots in total. <br>\n",
        "Refer seaborn boxplot() documentation"
      ]
    },
    {
      "cell_type": "code",
      "metadata": {
        "scrolled": false,
        "id": "kORQOo9gYNDZ",
        "colab": {
          "base_uri": "https://localhost:8080/",
          "height": 279
        },
        "outputId": "6616980e-8209-438e-ec77-aaddeb702870"
      },
      "source": [
        "# your code starts here\n",
        "for i,col in enumerate(cols):\n",
        "  plt.subplot(4,3,i+1)\n",
        "  sns.boxplot(x='TARGET CLASS', y=col, data=df)\n",
        "  plt.subplots_adjust(wspace=0.6,\n",
        "                      hspace=0.4)\n",
        "plt.show()\n",
        "# your code ends here"
      ],
      "execution_count": null,
      "outputs": [
        {
          "output_type": "display_data",
          "data": {
            "text/plain": [
              "<Figure size 432x288 with 10 Axes>"
            ],
            "image/png": "[encoded data removed]"
          },
          "metadata": {
            "needs_background": "light"
          }
        }
      ]
    },
    {
      "cell_type": "markdown",
      "metadata": {
        "id": "OIFaYgUWYNDa"
      },
      "source": [
        "### Standardize the features using sklearn.preprocessing \n",
        "Why should we standardize?<br>\n",
        "Variables that are measured at different scales do not contribute equally to the model fitting & model learned function and might end up creating a bias. Thus, to deal with this potential problem feature-wise standardized (μ=0, σ=1) is usually used prior to model fitting.<br>\n",
        "<br>\n",
        "Go through this link for a better understanding:<br>\n",
        "https://towardsdatascience.com/how-and-why-to-standardize-your-data-996926c2c832"
      ]
    },
    {
      "cell_type": "markdown",
      "metadata": {
        "id": "EzMEGA9fYNDa"
      },
      "source": [
        "**import StandardScaler from Sklearn and instantiate it to a variable called \"scaler\"**"
      ]
    },
    {
      "cell_type": "code",
      "metadata": {
        "id": "HVWU81uvYNDb"
      },
      "source": [
        "# your code starts here\n",
        "from sklearn.preprocessing import StandardScaler\n",
        "\n",
        "scalar = StandardScaler()\n",
        "# your code ends here"
      ],
      "execution_count": null,
      "outputs": []
    },
    {
      "cell_type": "markdown",
      "metadata": {
        "id": "HlKUjW9XYNDb"
      },
      "source": [
        "**Fit only the features data to this scaler (leaving the TARGET CLASS column out) and then transform**<br>\n",
        "Hint: scaler.fit() and scaler.transform()"
      ]
    },
    {
      "cell_type": "code",
      "metadata": {
        "id": "MCbkapp4YNDb"
      },
      "source": [
        "# your code starts here\n",
        "scalar.fit(df.drop('TARGET CLASS',axis=1))\n",
        "\n",
        "df_feat = scalar.transform(df.drop('TARGET CLASS',axis=1))\n",
        "# your code ends here"
      ],
      "execution_count": null,
      "outputs": []
    },
    {
      "cell_type": "markdown",
      "metadata": {
        "id": "uZTbl8UBYNDc"
      },
      "source": [
        "**Scaler.transform() will return an array. We need to convert this into a dataframe. Do this and add the column names to the dataframe. Call this new dataframe as \"df_feat\". Call head() on this df**<br>\n",
        "Note: The final dataframe will have the initial columns except the \"TARGET CLASS\"."
      ]
    },
    {
      "cell_type": "code",
      "metadata": {
        "id": "m6DnntqtYNDc",
        "colab": {
          "base_uri": "https://localhost:8080/",
          "height": 206
        },
        "outputId": "fded10b4-c61e-46fb-dd4a-75de60a08bbb"
      },
      "source": [
        "# your code starts here\n",
        "df_feat = pd.DataFrame(df_feat, columns=cols)\n",
        "\n",
        "df_feat.head()\n",
        "# your code ends here"
      ],
      "execution_count": null,
      "outputs": [
        {
          "output_type": "execute_result",
          "data": {
            "text/plain": [
              "        WTT       PTI       EQW       SBI       LQE       QWG       FDJ  \\\n",
              "0 -0.123542  0.185907 -0.913431  0.319629 -1.033637 -2.308375 -0.798951   \n",
              "1 -1.084836 -0.430348 -1.025313  0.625388 -0.444847 -1.152706 -1.129797   \n",
              "2 -0.788702  0.339318  0.301511  0.755873  2.031693 -0.870156  2.599818   \n",
              "3  0.982841  1.060193 -0.621399  0.625299  0.452820 -0.267220  1.750208   \n",
              "4  1.139275 -0.640392 -0.709819 -0.057175  0.822886 -0.936773  0.596782   \n",
              "\n",
              "        PJF       HQE       NXJ  \n",
              "0 -1.482368 -0.949719 -0.643314  \n",
              "1 -0.202240 -1.828051  0.636759  \n",
              "2  0.285707 -0.682494 -0.377850  \n",
              "3  1.066491  1.241325 -1.026987  \n",
              "4 -1.472352  1.040772  0.276510  "
            ],
            "text/html": [
              "\n",
              "  <div id=\"df-3949a45e-763f-4bd2-b3ad-4e20787fc813\">\n",
              "    <div class=\"colab-df-container\">\n",
              "      <div>\n",
              "<style scoped>\n",
              "    .dataframe tbody tr th:only-of-type {\n",
              "        vertical-align: middle;\n",
              "    }\n",
              "\n",
              "    .dataframe tbody tr th {\n",
              "        vertical-align: top;\n",
              "    }\n",
              "\n",
              "    .dataframe thead th {\n",
              "        text-align: right;\n",
              "    }\n",
              "</style>\n",
              "<table border=\"1\" class=\"dataframe\">\n",
              "  <thead>\n",
              "    <tr style=\"text-align: right;\">\n",
              "      <th></th>\n",
              "      <th>WTT</th>\n",
              "      <th>PTI</th>\n",
              "      <th>EQW</th>\n",
              "      <th>SBI</th>\n",
              "      <th>LQE</th>\n",
              "      <th>QWG</th>\n",
              "      <th>FDJ</th>\n",
              "      <th>PJF</th>\n",
              "      <th>HQE</th>\n",
              "      <th>NXJ</th>\n",
              "    </tr>\n",
              "  </thead>\n",
              "  <tbody>\n",
              "    <tr>\n",
              "      <th>0</th>\n",
              "      <td>-0.123542</td>\n",
              "      <td>0.185907</td>\n",
              "      <td>-0.913431</td>\n",
              "      <td>0.319629</td>\n",
              "      <td>-1.033637</td>\n",
              "      <td>-2.308375</td>\n",
              "      <td>-0.798951</td>\n",
              "      <td>-1.482368</td>\n",
              "      <td>-0.949719</td>\n",
              "      <td>-0.643314</td>\n",
              "    </tr>\n",
              "    <tr>\n",
              "      <th>1</th>\n",
              "      <td>-1.084836</td>\n",
              "      <td>-0.430348</td>\n",
              "      <td>-1.025313</td>\n",
              "      <td>0.625388</td>\n",
              "      <td>-0.444847</td>\n",
              "      <td>-1.152706</td>\n",
              "      <td>-1.129797</td>\n",
              "      <td>-0.202240</td>\n",
              "      <td>-1.828051</td>\n",
              "      <td>0.636759</td>\n",
              "    </tr>\n",
              "    <tr>\n",
              "      <th>2</th>\n",
              "      <td>-0.788702</td>\n",
              "      <td>0.339318</td>\n",
              "      <td>0.301511</td>\n",
              "      <td>0.755873</td>\n",
              "      <td>2.031693</td>\n",
              "      <td>-0.870156</td>\n",
              "      <td>2.599818</td>\n",
              "      <td>0.285707</td>\n",
              "      <td>-0.682494</td>\n",
              "      <td>-0.377850</td>\n",
              "    </tr>\n",
              "    <tr>\n",
              "      <th>3</th>\n",
              "      <td>0.982841</td>\n",
              "      <td>1.060193</td>\n",
              "      <td>-0.621399</td>\n",
              "      <td>0.625299</td>\n",
              "      <td>0.452820</td>\n",
              "      <td>-0.267220</td>\n",
              "      <td>1.750208</td>\n",
              "      <td>1.066491</td>\n",
              "      <td>1.241325</td>\n",
              "      <td>-1.026987</td>\n",
              "    </tr>\n",
              "    <tr>\n",
              "      <th>4</th>\n",
              "      <td>1.139275</td>\n",
              "      <td>-0.640392</td>\n",
              "      <td>-0.709819</td>\n",
              "      <td>-0.057175</td>\n",
              "      <td>0.822886</td>\n",
              "      <td>-0.936773</td>\n",
              "      <td>0.596782</td>\n",
              "      <td>-1.472352</td>\n",
              "      <td>1.040772</td>\n",
              "      <td>0.276510</td>\n",
              "    </tr>\n",
              "  </tbody>\n",
              "</table>\n",
              "</div>\n",
              "      <button class=\"colab-df-convert\" onclick=\"convertToInteractive('df-3949a45e-763f-4bd2-b3ad-4e20787fc813')\"\n",
              "              title=\"Convert this dataframe to an interactive table.\"\n",
              "              style=\"display:none;\">\n",
              "        \n",
              "  <svg xmlns=\"http://www.w3.org/2000/svg\" height=\"24px\"viewBox=\"0 0 24 24\"\n",
              "       width=\"24px\">\n",
              "    <path d=\"M0 0h24v24H0V0z\" fill=\"none\"/>\n",
              "    <path d=\"M18.56 5.44l.94 2.06.94-2.06 2.06-.94-2.06-.94-.94-2.06-.94 2.06-2.06.94zm-11 1L8.5 8.5l.94-2.06 2.06-.94-2.06-.94L8.5 2.5l-.94 2.06-2.06.94zm10 10l.94 2.06.94-2.06 2.06-.94-2.06-.94-.94-2.06-.94 2.06-2.06.94z\"/><path d=\"M17.41 7.96l-1.37-1.37c-.4-.4-.92-.59-1.43-.59-.52 0-1.04.2-1.43.59L10.3 9.45l-7.72 7.72c-.78.78-.78 2.05 0 2.83L4 21.41c.39.39.9.59 1.41.59.51 0 1.02-.2 1.41-.59l7.78-7.78 2.81-2.81c.8-.78.8-2.07 0-2.86zM5.41 20L4 18.59l7.72-7.72 1.47 1.35L5.41 20z\"/>\n",
              "  </svg>\n",
              "      </button>\n",
              "      \n",
              "  <style>\n",
              "    .colab-df-container {\n",
              "      display:flex;\n",
              "      flex-wrap:wrap;\n",
              "      gap: 12px;\n",
              "    }\n",
              "\n",
              "    .colab-df-convert {\n",
              "      background-color: #E8F0FE;\n",
              "      border: none;\n",
              "      border-radius: 50%;\n",
              "      cursor: pointer;\n",
              "      display: none;\n",
              "      fill: #1967D2;\n",
              "      height: 32px;\n",
              "      padding: 0 0 0 0;\n",
              "      width: 32px;\n",
              "    }\n",
              "\n",
              "    .colab-df-convert:hover {\n",
              "      background-color: #E2EBFA;\n",
              "      box-shadow: 0px 1px 2px rgba(60, 64, 67, 0.3), 0px 1px 3px 1px rgba(60, 64, 67, 0.15);\n",
              "      fill: #174EA6;\n",
              "    }\n",
              "\n",
              "    [theme=dark] .colab-df-convert {\n",
              "      background-color: #3B4455;\n",
              "      fill: #D2E3FC;\n",
              "    }\n",
              "\n",
              "    [theme=dark] .colab-df-convert:hover {\n",
              "      background-color: #434B5C;\n",
              "      box-shadow: 0px 1px 3px 1px rgba(0, 0, 0, 0.15);\n",
              "      filter: drop-shadow(0px 1px 2px rgba(0, 0, 0, 0.3));\n",
              "      fill: #FFFFFF;\n",
              "    }\n",
              "  </style>\n",
              "\n",
              "      <script>\n",
              "        const buttonEl =\n",
              "          document.querySelector('#df-3949a45e-763f-4bd2-b3ad-4e20787fc813 button.colab-df-convert');\n",
              "        buttonEl.style.display =\n",
              "          google.colab.kernel.accessAllowed ? 'block' : 'none';\n",
              "\n",
              "        async function convertToInteractive(key) {\n",
              "          const element = document.querySelector('#df-3949a45e-763f-4bd2-b3ad-4e20787fc813');\n",
              "          const dataTable =\n",
              "            await google.colab.kernel.invokeFunction('convertToInteractive',\n",
              "                                                     [key], {});\n",
              "          if (!dataTable) return;\n",
              "\n",
              "          const docLinkHtml = 'Like what you see? Visit the ' +\n",
              "            '<a target=\"_blank\" href=https://colab.research.google.com/notebooks/data_table.ipynb>data table notebook</a>'\n",
              "            + ' to learn more about interactive tables.';\n",
              "          element.innerHTML = '';\n",
              "          dataTable['output_type'] = 'display_data';\n",
              "          await google.colab.output.renderOutput(dataTable, element);\n",
              "          const docLink = document.createElement('div');\n",
              "          docLink.innerHTML = docLinkHtml;\n",
              "          element.appendChild(docLink);\n",
              "        }\n",
              "      </script>\n",
              "    </div>\n",
              "  </div>\n",
              "  "
            ]
          },
          "metadata": {},
          "execution_count": 109
        }
      ]
    },
    {
      "cell_type": "markdown",
      "metadata": {
        "id": "vWiXgySxYNDd"
      },
      "source": [
        "### Train/Test split"
      ]
    },
    {
      "cell_type": "markdown",
      "metadata": {
        "id": "xgJQPOfXYNDd"
      },
      "source": [
        "**Set X to be equal to df_feat and set y accordingly. As you know, X contains our training features and y contains our target.**<br>\n",
        "Hint: y can be taken directly from the initial dataframe \"df\""
      ]
    },
    {
      "cell_type": "code",
      "metadata": {
        "id": "W94s-2-jYNDd"
      },
      "source": [
        "# Your code starts here. \n",
        "X = df_feat\n",
        "y = df['TARGET CLASS']\n",
        "# Your code ends here"
      ],
      "execution_count": null,
      "outputs": []
    },
    {
      "cell_type": "markdown",
      "metadata": {
        "id": "5tyZdg0nYNDd"
      },
      "source": [
        "**Import train_test_split function from scikit-learn**<br>\n",
        "**Create X and y train and test splits in one command using a test size of 0.3 and a random seed**<br>\n",
        "They should be called X_train, X_test, y_train, y_test"
      ]
    },
    {
      "cell_type": "code",
      "metadata": {
        "id": "wiNlmT2IYNDe"
      },
      "source": [
        "# Your code starts here. \n",
        "X_train, X_test, y_train, y_test = train_test_split(X,y,test_size = 0.3, random_state = 42)\n",
        "# Your code ends here"
      ],
      "execution_count": null,
      "outputs": []
    },
    {
      "cell_type": "markdown",
      "metadata": {
        "id": "N6tS1j4iYNDe"
      },
      "source": [
        "### Model fit and training"
      ]
    },
    {
      "cell_type": "markdown",
      "metadata": {
        "id": "7A_LeaNAYNDe"
      },
      "source": [
        "**import KNeighborsClassifier from sklearn and initialize it with neighbours = 1. Fit this on X_train and y_train**"
      ]
    },
    {
      "cell_type": "code",
      "metadata": {
        "id": "kaSJJTYDYNDf",
        "colab": {
          "base_uri": "https://localhost:8080/"
        },
        "outputId": "2a40604e-d497-4132-d2de-bc98731cddce"
      },
      "source": [
        "# Your code starts here. \n",
        "from sklearn.neighbors import KNeighborsClassifier\n",
        "\n",
        "classifier = KNeighborsClassifier(n_neighbors = 1)\n",
        "\n",
        "classifier.fit(X_train,y_train)\n",
        "# Your code ends here"
      ],
      "execution_count": null,
      "outputs": [
        {
          "output_type": "execute_result",
          "data": {
            "text/plain": [
              "KNeighborsClassifier(n_neighbors=1)"
            ]
          },
          "metadata": {},
          "execution_count": 141
        }
      ]
    },
    {
      "cell_type": "markdown",
      "metadata": {
        "id": "eAEVkt6LYNDf"
      },
      "source": [
        "**Using this fitted model, predict on X_test. Store these predictions in variable called pred.**"
      ]
    },
    {
      "cell_type": "code",
      "metadata": {
        "id": "rsnjjXaMYNDf"
      },
      "source": [
        "# Your code starts here. \n",
        "pred = classifier.predict(X_test)\n",
        "# Your code ends here"
      ],
      "execution_count": null,
      "outputs": []
    },
    {
      "cell_type": "markdown",
      "metadata": {
        "id": "7IcCOyuOYNDf"
      },
      "source": [
        "**Let us check how correct these predictions are.<br>\n",
        "Print a classification report of y_test and pred**<br>\n",
        "Hint: sklearn classification_report"
      ]
    },
    {
      "cell_type": "code",
      "metadata": {
        "id": "HC-20WeuYNDg",
        "colab": {
          "base_uri": "https://localhost:8080/"
        },
        "outputId": "e3ef739c-96da-42d7-90f0-e487adbd0d1a"
      },
      "source": [
        "# Your code starts here. \n",
        "report = metrics.classification_report(y_test,pred)\n",
        "print(report)\n",
        "# Your code ends here"
      ],
      "execution_count": null,
      "outputs": [
        {
          "output_type": "stream",
          "name": "stdout",
          "text": [
            "              precision    recall  f1-score   support\n",
            "\n",
            "           0       0.92      0.94      0.93       142\n",
            "           1       0.95      0.93      0.94       158\n",
            "\n",
            "    accuracy                           0.94       300\n",
            "   macro avg       0.94      0.94      0.94       300\n",
            "weighted avg       0.94      0.94      0.94       300\n",
            "\n"
          ]
        }
      ]
    },
    {
      "cell_type": "markdown",
      "metadata": {
        "id": "exGvX0C5YNDg"
      },
      "source": [
        "**Print the accuracy using numpy and round it to 3 decimal places.**"
      ]
    },
    {
      "cell_type": "code",
      "metadata": {
        "id": "sSoOx6MiYNDg",
        "colab": {
          "base_uri": "https://localhost:8080/"
        },
        "outputId": "4e029aba-8b72-4dd4-c4ca-46699dfbc2ed"
      },
      "source": [
        "# Your code starts here. \n",
        "pred = np.array(pred)\n",
        "comp = (pred == y_test)\n",
        "accuracy = np.count_nonzero(comp)/comp.size\n",
        "\n",
        "print(f'{accuracy:.3f}')\n",
        "# Your code ends here"
      ],
      "execution_count": null,
      "outputs": [
        {
          "output_type": "stream",
          "name": "stdout",
          "text": [
            "0.937\n"
          ]
        }
      ]
    },
    {
      "cell_type": "markdown",
      "metadata": {
        "id": "UWjjrBrbYNDh"
      },
      "source": [
        "### Choosing optimal 'k'"
      ]
    },
    {
      "cell_type": "markdown",
      "metadata": {
        "id": "IT_5lBDVYNDh"
      },
      "source": [
        "**Above, we chose n_neighbours to be equal to 1. Choosing a small value of K leads to unstable decision boundaries. <br>\n",
        "We need to select n_neighbours by calculating the accuracy for every value of n from 1 to 60 and then choosing the one which gives the highest accuracy.**"
      ]
    },
    {
      "cell_type": "code",
      "metadata": {
        "id": "xPKm3inZYNDh",
        "colab": {
          "base_uri": "https://localhost:8080/"
        },
        "outputId": "72fa4405-c502-40ac-cb8e-b13091eebefd"
      },
      "source": [
        "# Do the same as we did above, but this time make a loop from n = 1 to n = 60 and append the accuracy\n",
        "# for each in a list\n",
        "acc = []\n",
        "# Your code starts here. \n",
        "for k in range(1,61):\n",
        "  classifier = KNeighborsClassifier(n_neighbors = k)\n",
        "  classifier.fit(X_train,y_train)\n",
        "  pred = np.array(classifier.predict(X_test))\n",
        "  comp = (pred == y_test)\n",
        "  accuracy = np.count_nonzero(comp)/comp.size\n",
        "  acc.append(accuracy)\n",
        "\n",
        "print(acc)\n",
        "# Your code ends here"
      ],
      "execution_count": null,
      "outputs": [
        {
          "output_type": "stream",
          "name": "stdout",
          "text": [
            "[0.9366666666666666, 0.9166666666666666, 0.9433333333333334, 0.9433333333333334, 0.9433333333333334, 0.9433333333333334, 0.9366666666666666, 0.9433333333333334, 0.9433333333333334, 0.95, 0.95, 0.9533333333333334, 0.9533333333333334, 0.9533333333333334, 0.9533333333333334, 0.9533333333333334, 0.9533333333333334, 0.95, 0.9466666666666667, 0.9466666666666667, 0.95, 0.9433333333333334, 0.9433333333333334, 0.9466666666666667, 0.94, 0.9433333333333334, 0.9466666666666667, 0.9466666666666667, 0.95, 0.95, 0.95, 0.95, 0.95, 0.95, 0.95, 0.95, 0.95, 0.95, 0.95, 0.95, 0.95, 0.95, 0.95, 0.95, 0.95, 0.95, 0.95, 0.95, 0.95, 0.95, 0.95, 0.95, 0.95, 0.95, 0.95, 0.95, 0.95, 0.95, 0.95, 0.95]\n"
          ]
        }
      ]
    },
    {
      "cell_type": "markdown",
      "metadata": {
        "id": "5LUl_JMUYNDi"
      },
      "source": [
        "**Plot a graph of K value vs Accuracy**"
      ]
    },
    {
      "cell_type": "code",
      "metadata": {
        "id": "DvsbINxsYNDi",
        "colab": {
          "base_uri": "https://localhost:8080/",
          "height": 268
        },
        "outputId": "6a17d69c-41d7-497a-ec14-b48dff905170"
      },
      "source": [
        "# Your code starts here. \n",
        "\n",
        "plt.plot(range(1,61),acc)\n",
        "plt.title = 'K value Vs Accuracy'\n",
        "plt.xlabel = 'K value'\n",
        "plt.ylabel = 'Accuracy'\n",
        "plt.show()\n",
        "# Your code ends here"
      ],
      "execution_count": null,
      "outputs": [
        {
          "output_type": "display_data",
          "data": {
            "text/plain": [
              "<Figure size 432x288 with 1 Axes>"
            ],
            "image/png": "[encoded data removed]"
          },
          "metadata": {
            "needs_background": "light"
          }
        }
      ]
    },
    {
      "cell_type": "markdown",
      "metadata": {
        "id": "KO4KK1WEYNDi"
      },
      "source": [
        "**Choose the best value of n_neighbours and give a reason why and also print the accuracy**"
      ]
    },
    {
      "cell_type": "code",
      "metadata": {
        "id": "SWf5hh-jYNDj",
        "colab": {
          "base_uri": "https://localhost:8080/"
        },
        "outputId": "cb5c2f48-29eb-4ec5-ce99-3b17f2519500"
      },
      "source": [
        "# Your code starts here. \n",
        "best_k = acc.index(max(acc))\n",
        "print(f'Best value of k: {best_k} \\nAccuracy: {max(acc)}')\n",
        "# Your code ends here"
      ],
      "execution_count": null,
      "outputs": [
        {
          "output_type": "stream",
          "name": "stdout",
          "text": [
            "Best value of k: 11 \n",
            "Accuracy: 0.9533333333333334\n"
          ]
        }
      ]
    },
    {
      "cell_type": "code",
      "metadata": {
        "id": "8gIMbzLJd8bu"
      },
      "source": [
        "# Reasons: 11 is the best value for k as it gives the highest accuracy for the smallest number of neighbours"
      ],
      "execution_count": null,
      "outputs": []
    },
    {
      "cell_type": "markdown",
      "source": [
        "# **Bonus: To be done only if you have completed the above tasks.**"
      ],
      "metadata": {
        "id": "k9XhFGEqHZQn"
      }
    },
    {
      "cell_type": "markdown",
      "source": [
        "You can research and create a short blog on the topic of **Support Vector Machines (SVM).** The best research will be edited and featured on the Synapse Instagram page. Happy coding! :)"
      ],
      "metadata": {
        "id": "SygIgxENHr83"
      }
    },
    {
      "cell_type": "markdown",
      "source": [
        "# **End of Task**\n",
        "\n",
        "> ©DJS Synapse 2022 - 2023\n",
        "\n"
      ],
      "metadata": {
        "id": "xAXGpxm2Wcmm"
      }
    }
  ]
}